{
 "cells": [
  {
   "cell_type": "code",
   "execution_count": 1,
   "metadata": {
    "collapsed": false
   },
   "outputs": [],
   "source": [
    "import pandas as pd\n",
    "import numpy as np\n",
    "from pandas import Series,DataFrame\n",
    "import xgboost as xgb\n",
    "from xgboost.sklearn import XGBClassifier\n",
    "from sklearn import cross_validation, metrics\n",
    "from sklearn.grid_search import GridSearchCV\n",
    "\n",
    "import matplotlib.pylab as plt\n",
    "%matplotlib inline\n",
    "from matplotlib.pylab import rcParams\n",
    "rcParams['figure.figsize'] = 12, 4\n"
   ]
  },
  {
   "cell_type": "code",
   "execution_count": 2,
   "metadata": {
    "collapsed": true
   },
   "outputs": [],
   "source": [
    "train=pd.read_csv(\"train.csv\")\n",
    "test=pd.read_csv(\"test.csv\")\n",
    "user=pd.read_csv(\"user.csv\")\n",
    "ad=pd.read_csv(\"ad.csv\")\n",
    "position=pd.read_csv(\"position.csv\")\n",
    "user_app_actions=pd.read_csv(\"user_app_actions.csv\")\n",
    "user_installedapps=pd.read_csv(\"user_installedapps.csv\")\n",
    "app_categories=pd.read_csv(\"app_categories.csv\")"
   ]
  },
  {
   "cell_type": "markdown",
   "metadata": {},
   "source": [
    "导入所有文件"
   ]
  },
  {
   "cell_type": "code",
   "execution_count": 3,
   "metadata": {
    "collapsed": false
   },
   "outputs": [
    {
     "data": {
      "text/html": [
       "<div>\n",
       "<table border=\"1\" class=\"dataframe\">\n",
       "  <thead>\n",
       "    <tr style=\"text-align: right;\">\n",
       "      <th></th>\n",
       "      <th>label</th>\n",
       "      <th>clickTime</th>\n",
       "      <th>conversionTime</th>\n",
       "      <th>creativeID</th>\n",
       "      <th>userID</th>\n",
       "      <th>positionID</th>\n",
       "      <th>connectionType</th>\n",
       "      <th>telecomsOperator</th>\n",
       "    </tr>\n",
       "  </thead>\n",
       "  <tbody>\n",
       "    <tr>\n",
       "      <th>0</th>\n",
       "      <td>0</td>\n",
       "      <td>170000</td>\n",
       "      <td>NaN</td>\n",
       "      <td>3089</td>\n",
       "      <td>2798058</td>\n",
       "      <td>293</td>\n",
       "      <td>1</td>\n",
       "      <td>1</td>\n",
       "    </tr>\n",
       "  </tbody>\n",
       "</table>\n",
       "</div>"
      ],
      "text/plain": [
       "   label  clickTime  conversionTime  creativeID   userID  positionID  \\\n",
       "0      0     170000             NaN        3089  2798058         293   \n",
       "\n",
       "   connectionType  telecomsOperator  \n",
       "0               1                 1  "
      ]
     },
     "execution_count": 3,
     "metadata": {},
     "output_type": "execute_result"
    }
   ],
   "source": [
    "train[0:1]"
   ]
  },
  {
   "cell_type": "code",
   "execution_count": 10,
   "metadata": {
    "collapsed": false
   },
   "outputs": [
    {
     "data": {
      "text/plain": [
       "54586"
      ]
     },
     "execution_count": 10,
     "metadata": {},
     "output_type": "execute_result"
    }
   ],
   "source": [
    "train[train.connectionType==0].shape[0]"
   ]
  },
  {
   "cell_type": "code",
   "execution_count": 63,
   "metadata": {
    "collapsed": false
   },
   "outputs": [
    {
     "data": {
      "text/plain": [
       "22484"
      ]
     },
     "execution_count": 63,
     "metadata": {},
     "output_type": "execute_result"
    }
   ],
   "source": [
    "train_all[train_all.connectionType==0].shape[0]"
   ]
  },
  {
   "cell_type": "code",
   "execution_count": 6,
   "metadata": {
    "collapsed": false
   },
   "outputs": [
    {
     "data": {
      "text/plain": [
       "445656"
      ]
     },
     "execution_count": 6,
     "metadata": {},
     "output_type": "execute_result"
    }
   ],
   "source": [
    "train[train.age==0].shape[0]"
   ]
  },
  {
   "cell_type": "code",
   "execution_count": 64,
   "metadata": {
    "collapsed": false
   },
   "outputs": [
    {
     "data": {
      "text/plain": [
       "22890"
      ]
     },
     "execution_count": 64,
     "metadata": {},
     "output_type": "execute_result"
    }
   ],
   "source": [
    "train_all[train_all.age==0].shape[0]"
   ]
  },
  {
   "cell_type": "code",
   "execution_count": 11,
   "metadata": {
    "collapsed": false
   },
   "outputs": [
    {
     "data": {
      "text/plain": [
       "100543"
      ]
     },
     "execution_count": 11,
     "metadata": {},
     "output_type": "execute_result"
    }
   ],
   "source": [
    "train[train.telecomsOperator==0].shape[0]"
   ]
  },
  {
   "cell_type": "code",
   "execution_count": 65,
   "metadata": {
    "collapsed": false
   },
   "outputs": [
    {
     "data": {
      "text/plain": [
       "13341"
      ]
     },
     "execution_count": 65,
     "metadata": {},
     "output_type": "execute_result"
    }
   ],
   "source": [
    "train_all[train_all.telecomsOperator==0].shape[0]"
   ]
  },
  {
   "cell_type": "code",
   "execution_count": 12,
   "metadata": {
    "collapsed": false
   },
   "outputs": [
    {
     "data": {
      "text/plain": [
       "0"
      ]
     },
     "execution_count": 12,
     "metadata": {},
     "output_type": "execute_result"
    }
   ],
   "source": [
    "train[train.appPlatform==0].shape[0]"
   ]
  },
  {
   "cell_type": "code",
   "execution_count": 13,
   "metadata": {
    "collapsed": false
   },
   "outputs": [
    {
     "data": {
      "text/plain": [
       "434556"
      ]
     },
     "execution_count": 13,
     "metadata": {},
     "output_type": "execute_result"
    }
   ],
   "source": [
    "train[train.gender==0].shape[0]"
   ]
  },
  {
   "cell_type": "code",
   "execution_count": 66,
   "metadata": {
    "collapsed": false
   },
   "outputs": [
    {
     "data": {
      "text/plain": [
       "21596"
      ]
     },
     "execution_count": 66,
     "metadata": {},
     "output_type": "execute_result"
    }
   ],
   "source": [
    "train_all[train_all.gender==0].shape[0]"
   ]
  },
  {
   "cell_type": "code",
   "execution_count": 67,
   "metadata": {
    "collapsed": false
   },
   "outputs": [
    {
     "data": {
      "text/plain": [
       "368630"
      ]
     },
     "execution_count": 67,
     "metadata": {},
     "output_type": "execute_result"
    }
   ],
   "source": [
    "train_all[train_all.education==0].shape[0]"
   ]
  },
  {
   "cell_type": "code",
   "execution_count": 68,
   "metadata": {
    "collapsed": false
   },
   "outputs": [
    {
     "data": {
      "text/plain": [
       "644583"
      ]
     },
     "execution_count": 68,
     "metadata": {},
     "output_type": "execute_result"
    }
   ],
   "source": [
    "train_all[train_all.marriageStatus==0].shape[0]"
   ]
  },
  {
   "cell_type": "code",
   "execution_count": 17,
   "metadata": {
    "collapsed": false
   },
   "outputs": [
    {
     "data": {
      "text/plain": [
       "3001690"
      ]
     },
     "execution_count": 17,
     "metadata": {},
     "output_type": "execute_result"
    }
   ],
   "source": [
    "train[train.haveBaby==0].shape[0]"
   ]
  },
  {
   "cell_type": "code",
   "execution_count": 70,
   "metadata": {
    "collapsed": false
   },
   "outputs": [
    {
     "data": {
      "text/plain": [
       "1842769"
      ]
     },
     "execution_count": 70,
     "metadata": {},
     "output_type": "execute_result"
    }
   ],
   "source": [
    "train_all[train_all.haveBaby==0].shape[0]"
   ]
  },
  {
   "cell_type": "code",
   "execution_count": 71,
   "metadata": {
    "collapsed": false
   },
   "outputs": [
    {
     "data": {
      "text/plain": [
       "14944"
      ]
     },
     "execution_count": 71,
     "metadata": {},
     "output_type": "execute_result"
    }
   ],
   "source": [
    "train_all[train_all.residence==0].shape[0]"
   ]
  },
  {
   "cell_type": "code",
   "execution_count": 19,
   "metadata": {
    "collapsed": false
   },
   "outputs": [
    {
     "data": {
      "text/plain": [
       "345202"
      ]
     },
     "execution_count": 19,
     "metadata": {},
     "output_type": "execute_result"
    }
   ],
   "source": [
    "train[train.residence==0].shape[0]"
   ]
  },
  {
   "cell_type": "code",
   "execution_count": 20,
   "metadata": {
    "collapsed": false
   },
   "outputs": [
    {
     "data": {
      "text/plain": [
       "1074114"
      ]
     },
     "execution_count": 20,
     "metadata": {},
     "output_type": "execute_result"
    }
   ],
   "source": [
    "train[train.positionType==0].shape[0]"
   ]
  },
  {
   "cell_type": "code",
   "execution_count": 72,
   "metadata": {
    "collapsed": false
   },
   "outputs": [
    {
     "data": {
      "text/plain": [
       "605282"
      ]
     },
     "execution_count": 72,
     "metadata": {},
     "output_type": "execute_result"
    }
   ],
   "source": [
    "train_all[train_all.positionType==0].shape[0]"
   ]
  },
  {
   "cell_type": "code",
   "execution_count": 22,
   "metadata": {
    "collapsed": false
   },
   "outputs": [
    {
     "data": {
      "text/plain": [
       "151"
      ]
     },
     "execution_count": 22,
     "metadata": {},
     "output_type": "execute_result"
    }
   ],
   "source": [
    "train[train.appCategory==0].shape[0]"
   ]
  },
  {
   "cell_type": "code",
   "execution_count": 42,
   "metadata": {
    "collapsed": true
   },
   "outputs": [],
   "source": [
    "t=train[train.appCategory<10]"
   ]
  },
  {
   "cell_type": "code",
   "execution_count": 52,
   "metadata": {
    "collapsed": false
   },
   "outputs": [
    {
     "data": {
      "text/plain": [
       "50"
      ]
     },
     "execution_count": 52,
     "metadata": {},
     "output_type": "execute_result"
    }
   ],
   "source": [
    "len(train.appID.value_counts())"
   ]
  },
  {
   "cell_type": "code",
   "execution_count": 38,
   "metadata": {
    "collapsed": false
   },
   "outputs": [
    {
     "data": {
      "text/plain": [
       "1884671    113\n",
       "865369     101\n",
       "2177410     98\n",
       "674047      86\n",
       "2453862     79\n",
       "1429590     71\n",
       "2655628     71\n",
       "1927874     68\n",
       "1168889     68\n",
       "1002893     65\n",
       "290299      62\n",
       "892865      60\n",
       "1433076     59\n",
       "962257      58\n",
       "1192225     58\n",
       "232920      58\n",
       "1957083     57\n",
       "2170983     57\n",
       "2275498     56\n",
       "946121      55\n",
       "1156638     55\n",
       "1774872     55\n",
       "1609486     54\n",
       "1744606     53\n",
       "2678882     53\n",
       "1628135     52\n",
       "1308377     52\n",
       "1531579     51\n",
       "237194      51\n",
       "1066303     50\n",
       "          ... \n",
       "482325       1\n",
       "476182       1\n",
       "478231       1\n",
       "467994       1\n",
       "470043       1\n",
       "465949       1\n",
       "459806       1\n",
       "461855       1\n",
       "455712       1\n",
       "457761       1\n",
       "453667       1\n",
       "447524       1\n",
       "443430       1\n",
       "439336       1\n",
       "392257       1\n",
       "435242       1\n",
       "437291       1\n",
       "433197       1\n",
       "427054       1\n",
       "422960       1\n",
       "425009       1\n",
       "414772       1\n",
       "416821       1\n",
       "410678       1\n",
       "408633       1\n",
       "402490       1\n",
       "400445       1\n",
       "394302       1\n",
       "390208       1\n",
       "2049         1\n",
       "Name: userID, dtype: int64"
      ]
     },
     "execution_count": 38,
     "metadata": {},
     "output_type": "execute_result"
    }
   ],
   "source": [
    "train.userID.value_counts()"
   ]
  },
  {
   "cell_type": "code",
   "execution_count": 33,
   "metadata": {
    "collapsed": false
   },
   "outputs": [
    {
     "data": {
      "text/plain": [
       "0    1518413\n",
       "2    1001024\n",
       "1     971478\n",
       "3     258613\n",
       "Name: marriageStatus, dtype: int64"
      ]
     },
     "execution_count": 33,
     "metadata": {},
     "output_type": "execute_result"
    }
   ],
   "source": [
    "train.marriageStatus.value_counts()"
   ]
  },
  {
   "cell_type": "code",
   "execution_count": 103,
   "metadata": {
    "collapsed": false
   },
   "outputs": [
    {
     "data": {
      "text/plain": [
       "0    1200501\n",
       "1     416593\n",
       "2      29625\n",
       "3      21250\n",
       "4      14679\n",
       "5      14230\n",
       "6       9626\n",
       "Name: haveBaby, dtype: int64"
      ]
     },
     "execution_count": 103,
     "metadata": {},
     "output_type": "execute_result"
    }
   ],
   "source": [
    "t=train[train.age<30]\n",
    "train.haveBaby[train.age>20].value_counts()"
   ]
  },
  {
   "cell_type": "code",
   "execution_count": 57,
   "metadata": {
    "collapsed": true
   },
   "outputs": [],
   "source": [
    "del train['hometown']"
   ]
  },
  {
   "cell_type": "code",
   "execution_count": 104,
   "metadata": {
    "collapsed": false
   },
   "outputs": [
    {
     "data": {
      "text/html": [
       "<div>\n",
       "<table border=\"1\" class=\"dataframe\">\n",
       "  <thead>\n",
       "    <tr style=\"text-align: right;\">\n",
       "      <th></th>\n",
       "      <th>label</th>\n",
       "      <th>clickTime</th>\n",
       "      <th>conversionTime</th>\n",
       "      <th>creativeID</th>\n",
       "      <th>userID</th>\n",
       "      <th>positionID</th>\n",
       "      <th>connectionType</th>\n",
       "      <th>telecomsOperator</th>\n",
       "      <th>adID</th>\n",
       "      <th>camgaignID</th>\n",
       "      <th>...</th>\n",
       "      <th>education</th>\n",
       "      <th>marriageStatus</th>\n",
       "      <th>haveBaby</th>\n",
       "      <th>residence</th>\n",
       "      <th>sitesetID</th>\n",
       "      <th>positionType</th>\n",
       "      <th>appCategory</th>\n",
       "      <th>day</th>\n",
       "      <th>hour</th>\n",
       "      <th>residence2</th>\n",
       "    </tr>\n",
       "  </thead>\n",
       "  <tbody>\n",
       "    <tr>\n",
       "      <th>0</th>\n",
       "      <td>0</td>\n",
       "      <td>170000</td>\n",
       "      <td>NaN</td>\n",
       "      <td>3089</td>\n",
       "      <td>2798058</td>\n",
       "      <td>293</td>\n",
       "      <td>1</td>\n",
       "      <td>1</td>\n",
       "      <td>1321</td>\n",
       "      <td>83</td>\n",
       "      <td>...</td>\n",
       "      <td>1</td>\n",
       "      <td>3</td>\n",
       "      <td>1</td>\n",
       "      <td>1301</td>\n",
       "      <td>0</td>\n",
       "      <td>3</td>\n",
       "      <td>108</td>\n",
       "      <td>17</td>\n",
       "      <td>0</td>\n",
       "      <td>13</td>\n",
       "    </tr>\n",
       "  </tbody>\n",
       "</table>\n",
       "<p>1 rows × 25 columns</p>\n",
       "</div>"
      ],
      "text/plain": [
       "   label  clickTime  conversionTime  creativeID   userID  positionID  \\\n",
       "0      0     170000             NaN        3089  2798058         293   \n",
       "\n",
       "   connectionType  telecomsOperator  adID  camgaignID     ...      education  \\\n",
       "0               1                 1  1321          83     ...              1   \n",
       "\n",
       "   marriageStatus  haveBaby  residence  sitesetID  positionType  appCategory  \\\n",
       "0               3         1       1301          0             3          108   \n",
       "\n",
       "   day  hour  residence2  \n",
       "0   17     0          13  \n",
       "\n",
       "[1 rows x 25 columns]"
      ]
     },
     "execution_count": 104,
     "metadata": {},
     "output_type": "execute_result"
    }
   ],
   "source": [
    "train[0:1]"
   ]
  },
  {
   "cell_type": "code",
   "execution_count": 60,
   "metadata": {
    "collapsed": false
   },
   "outputs": [
    {
     "data": {
      "text/plain": [
       "2     1298915\n",
       "1      973654\n",
       "3      668417\n",
       "4      268256\n",
       "0      241530\n",
       "5      177782\n",
       "6       71781\n",
       "7       47189\n",
       "8        1955\n",
       "9          40\n",
       "10          9\n",
       "Name: zreo, dtype: int64"
      ]
     },
     "execution_count": 60,
     "metadata": {},
     "output_type": "execute_result"
    }
   ],
   "source": [
    "train2=train.drop(['label','hour','sitesetID'],1)\n",
    "\n",
    "train2['zreo']=train2.apply(lambda x: sum(x==0),1)\n",
    "\n",
    "train2['zreo'].value_counts()"
   ]
  },
  {
   "cell_type": "code",
   "execution_count": 61,
   "metadata": {
    "collapsed": false
   },
   "outputs": [
    {
     "data": {
      "text/plain": [
       "0    2454187\n",
       "1      59912\n",
       "Name: label, dtype: int64"
      ]
     },
     "execution_count": 61,
     "metadata": {},
     "output_type": "execute_result"
    }
   ],
   "source": [
    "filter_t = np.logical_and(train2.zreo.values>=0, train2.zreo.values <=2)\n",
    "\n",
    "train_all= train.ix[filter_t, :]\n",
    "\n",
    "train_all.label.value_counts()"
   ]
  },
  {
   "cell_type": "code",
   "execution_count": 62,
   "metadata": {
    "collapsed": false
   },
   "outputs": [
    {
     "data": {
      "text/plain": [
       "0.24435226990011705"
      ]
     },
     "execution_count": 62,
     "metadata": {},
     "output_type": "execute_result"
    }
   ],
   "source": []
  },
  {
   "cell_type": "code",
   "execution_count": 39,
   "metadata": {
    "collapsed": false
   },
   "outputs": [
    {
     "data": {
      "text/plain": [
       "userID\n",
       "1          0.0\n",
       "2          0.0\n",
       "4          0.0\n",
       "5          0.0\n",
       "6          0.0\n",
       "7          0.0\n",
       "8          0.0\n",
       "9          0.0\n",
       "10         0.0\n",
       "11         0.0\n",
       "13         0.0\n",
       "14         0.0\n",
       "15         0.0\n",
       "16         0.0\n",
       "17         0.0\n",
       "19         0.0\n",
       "20         0.0\n",
       "21         0.0\n",
       "22         1.0\n",
       "23         0.0\n",
       "24         0.0\n",
       "25         0.0\n",
       "26         0.0\n",
       "27         0.0\n",
       "28         0.0\n",
       "29         0.0\n",
       "30         0.0\n",
       "32         0.0\n",
       "33         0.5\n",
       "34         0.0\n",
       "          ... \n",
       "2805085    0.0\n",
       "2805087    0.0\n",
       "2805088    0.0\n",
       "2805089    0.0\n",
       "2805090    0.0\n",
       "2805091    0.0\n",
       "2805092    0.0\n",
       "2805093    0.0\n",
       "2805094    0.0\n",
       "2805096    0.0\n",
       "2805098    0.0\n",
       "2805099    0.0\n",
       "2805100    0.0\n",
       "2805101    0.0\n",
       "2805102    0.0\n",
       "2805103    0.0\n",
       "2805104    0.0\n",
       "2805105    0.0\n",
       "2805106    0.0\n",
       "2805107    0.0\n",
       "2805108    0.0\n",
       "2805109    0.0\n",
       "2805110    1.0\n",
       "2805111    0.0\n",
       "2805112    1.0\n",
       "2805113    0.0\n",
       "2805114    0.0\n",
       "2805115    0.0\n",
       "2805116    0.0\n",
       "2805118    0.0\n",
       "Name: label, dtype: float64"
      ]
     },
     "execution_count": 39,
     "metadata": {},
     "output_type": "execute_result"
    }
   ],
   "source": [
    "grp1 = train.groupby(['userID'])\n",
    "sum1 = grp1['label'].aggregate(np.sum)\n",
    "cnt1 = grp1['label'].aggregate(np.size)\n",
    "sum1.astype(float) /cnt1"
   ]
  },
  {
   "cell_type": "code",
   "execution_count": 4,
   "metadata": {
    "collapsed": false
   },
   "outputs": [
    {
     "data": {
      "text/html": [
       "<div>\n",
       "<table border=\"1\" class=\"dataframe\">\n",
       "  <thead>\n",
       "    <tr style=\"text-align: right;\">\n",
       "      <th></th>\n",
       "      <th>userID</th>\n",
       "      <th>age</th>\n",
       "      <th>gender</th>\n",
       "      <th>education</th>\n",
       "      <th>marriageStatus</th>\n",
       "      <th>haveBaby</th>\n",
       "      <th>hometown</th>\n",
       "      <th>residence</th>\n",
       "    </tr>\n",
       "  </thead>\n",
       "  <tbody>\n",
       "    <tr>\n",
       "      <th>0</th>\n",
       "      <td>1</td>\n",
       "      <td>42</td>\n",
       "      <td>1</td>\n",
       "      <td>0</td>\n",
       "      <td>2</td>\n",
       "      <td>0</td>\n",
       "      <td>512</td>\n",
       "      <td>503</td>\n",
       "    </tr>\n",
       "  </tbody>\n",
       "</table>\n",
       "</div>"
      ],
      "text/plain": [
       "   userID  age  gender  education  marriageStatus  haveBaby  hometown  \\\n",
       "0       1   42       1          0               2         0       512   \n",
       "\n",
       "   residence  \n",
       "0        503  "
      ]
     },
     "execution_count": 4,
     "metadata": {},
     "output_type": "execute_result"
    }
   ],
   "source": [
    "user[0:1]"
   ]
  },
  {
   "cell_type": "code",
   "execution_count": 5,
   "metadata": {
    "collapsed": false
   },
   "outputs": [
    {
     "data": {
      "text/html": [
       "<div>\n",
       "<table border=\"1\" class=\"dataframe\">\n",
       "  <thead>\n",
       "    <tr style=\"text-align: right;\">\n",
       "      <th></th>\n",
       "      <th>creativeID</th>\n",
       "      <th>adID</th>\n",
       "      <th>camgaignID</th>\n",
       "      <th>advertiserID</th>\n",
       "      <th>appID</th>\n",
       "      <th>appPlatform</th>\n",
       "    </tr>\n",
       "  </thead>\n",
       "  <tbody>\n",
       "    <tr>\n",
       "      <th>0</th>\n",
       "      <td>4079</td>\n",
       "      <td>2318</td>\n",
       "      <td>147</td>\n",
       "      <td>80</td>\n",
       "      <td>14</td>\n",
       "      <td>2</td>\n",
       "    </tr>\n",
       "  </tbody>\n",
       "</table>\n",
       "</div>"
      ],
      "text/plain": [
       "   creativeID  adID  camgaignID  advertiserID  appID  appPlatform\n",
       "0        4079  2318         147            80     14            2"
      ]
     },
     "execution_count": 5,
     "metadata": {},
     "output_type": "execute_result"
    }
   ],
   "source": [
    "ad[0:1]"
   ]
  },
  {
   "cell_type": "code",
   "execution_count": 6,
   "metadata": {
    "collapsed": false
   },
   "outputs": [
    {
     "data": {
      "text/html": [
       "<div>\n",
       "<table border=\"1\" class=\"dataframe\">\n",
       "  <thead>\n",
       "    <tr style=\"text-align: right;\">\n",
       "      <th></th>\n",
       "      <th>positionID</th>\n",
       "      <th>sitesetID</th>\n",
       "      <th>positionType</th>\n",
       "    </tr>\n",
       "  </thead>\n",
       "  <tbody>\n",
       "    <tr>\n",
       "      <th>0</th>\n",
       "      <td>2150</td>\n",
       "      <td>1</td>\n",
       "      <td>0</td>\n",
       "    </tr>\n",
       "  </tbody>\n",
       "</table>\n",
       "</div>"
      ],
      "text/plain": [
       "   positionID  sitesetID  positionType\n",
       "0        2150          1             0"
      ]
     },
     "execution_count": 6,
     "metadata": {},
     "output_type": "execute_result"
    }
   ],
   "source": [
    "position[0:1]"
   ]
  },
  {
   "cell_type": "code",
   "execution_count": 7,
   "metadata": {
    "collapsed": false
   },
   "outputs": [
    {
     "data": {
      "text/html": [
       "<div>\n",
       "<table border=\"1\" class=\"dataframe\">\n",
       "  <thead>\n",
       "    <tr style=\"text-align: right;\">\n",
       "      <th></th>\n",
       "      <th>userID</th>\n",
       "      <th>installTime</th>\n",
       "      <th>appID</th>\n",
       "    </tr>\n",
       "  </thead>\n",
       "  <tbody>\n",
       "    <tr>\n",
       "      <th>0</th>\n",
       "      <td>1</td>\n",
       "      <td>182032</td>\n",
       "      <td>933</td>\n",
       "    </tr>\n",
       "  </tbody>\n",
       "</table>\n",
       "</div>"
      ],
      "text/plain": [
       "   userID  installTime  appID\n",
       "0       1       182032    933"
      ]
     },
     "execution_count": 7,
     "metadata": {},
     "output_type": "execute_result"
    }
   ],
   "source": [
    "user_app_actions[0:1]"
   ]
  },
  {
   "cell_type": "code",
   "execution_count": 8,
   "metadata": {
    "collapsed": false
   },
   "outputs": [
    {
     "data": {
      "text/html": [
       "<div>\n",
       "<table border=\"1\" class=\"dataframe\">\n",
       "  <thead>\n",
       "    <tr style=\"text-align: right;\">\n",
       "      <th></th>\n",
       "      <th>userID</th>\n",
       "      <th>appID</th>\n",
       "    </tr>\n",
       "  </thead>\n",
       "  <tbody>\n",
       "    <tr>\n",
       "      <th>0</th>\n",
       "      <td>1</td>\n",
       "      <td>357</td>\n",
       "    </tr>\n",
       "  </tbody>\n",
       "</table>\n",
       "</div>"
      ],
      "text/plain": [
       "   userID  appID\n",
       "0       1    357"
      ]
     },
     "execution_count": 8,
     "metadata": {},
     "output_type": "execute_result"
    }
   ],
   "source": [
    "user_installedapps[0:1]"
   ]
  },
  {
   "cell_type": "code",
   "execution_count": 9,
   "metadata": {
    "collapsed": false
   },
   "outputs": [
    {
     "data": {
      "text/html": [
       "<div>\n",
       "<table border=\"1\" class=\"dataframe\">\n",
       "  <thead>\n",
       "    <tr style=\"text-align: right;\">\n",
       "      <th></th>\n",
       "      <th>appID</th>\n",
       "      <th>appCategory</th>\n",
       "    </tr>\n",
       "  </thead>\n",
       "  <tbody>\n",
       "    <tr>\n",
       "      <th>0</th>\n",
       "      <td>14</td>\n",
       "      <td>2</td>\n",
       "    </tr>\n",
       "  </tbody>\n",
       "</table>\n",
       "</div>"
      ],
      "text/plain": [
       "   appID  appCategory\n",
       "0     14            2"
      ]
     },
     "execution_count": 9,
     "metadata": {},
     "output_type": "execute_result"
    }
   ],
   "source": [
    "app_categories[0:1]"
   ]
  },
  {
   "cell_type": "code",
   "execution_count": 5,
   "metadata": {
    "collapsed": false
   },
   "outputs": [],
   "source": [
    "train=pd.merge(train,ad,on='creativeID')\n",
    "train=pd.merge(train,user,on='userID')\n",
    "train=pd.merge(train,position,on='positionID')\n",
    "train=pd.merge(train,app_categories,on='appID')\n",
    "train['day']=train.clickTime.values/10000\n",
    "train['hour']=train.clickTime.values/100%100\n",
    "train['residence2']=train.residence.values/100"
   ]
  },
  {
   "cell_type": "code",
   "execution_count": 105,
   "metadata": {
    "collapsed": true
   },
   "outputs": [],
   "source": [
    "import math\n",
    "def loss(label,pro):\n",
    "    label1=label.values\n",
    "    pro1=pro\n",
    "    prob1=pro.apply(lambda x: math.log(x)).values\n",
    "    prob2=pro1.apply(lambda x:math.log(1-x)).values\n",
    "    Loss=-np.mean((label1*pro1)+(1-label1)*prob2)\n",
    "    return Loss"
   ]
  },
  {
   "cell_type": "code",
   "execution_count": 144,
   "metadata": {
    "collapsed": true
   },
   "outputs": [],
   "source": [
    "train['creativeID_age']=np.add(train.creativeID.values,train.age.astype(float).values/100)*100"
   ]
  },
  {
   "cell_type": "markdown",
   "metadata": {
    "collapsed": false
   },
   "source": [
    "var = ['label','creativeID','positionID','connectionType','telecomsOperator','adID','camgaignID','advertiserID','appID','appPlatform'\n",
    "         ,'age','gender','education','marriageStatus','haveBaby','hometown','residence','sitesetID','positionType','appCategory','day','hour']\n",
    "for v in var:\n",
    "    print '\\nFrequency count for variable %s'%v\n",
    "    print len(train[v].value_counts())    \n",
    "    print train[v].value_counts()\n"
   ]
  },
  {
   "cell_type": "code",
   "execution_count": 146,
   "metadata": {
    "collapsed": false
   },
   "outputs": [],
   "source": [
    "train['creativeID_age']=np.add(train.creativeID.values,train.age.astype(float).values/100)*100\n",
    "\n",
    "train['creativeID_gender']=np.add(train.creativeID.values,train.gender.astype(float).values/10)*10\n",
    "\n",
    "train['creativeID_education']=np.add(train.creativeID.values,train.education.astype(float).values/10)*10\n",
    "\n",
    "train['creativeID_marriageStatus']=np.add(train.creativeID.values,train.marriageStatus.astype(float).values/10)*10\n",
    "\n",
    "train['creativeID_haveBaby']=np.add(train.creativeID.values,train.haveBaby.astype(float).values/10)*10"
   ]
  },
  {
   "cell_type": "code",
   "execution_count": 147,
   "metadata": {
    "collapsed": true
   },
   "outputs": [],
   "source": [
    "train['creativeID_advertiserID']=np.add(train.creativeID.values,train.advertiserID.astype(float).values/100)*100"
   ]
  },
  {
   "cell_type": "code",
   "execution_count": 148,
   "metadata": {
    "collapsed": false
   },
   "outputs": [],
   "source": [
    "train['creativeID_residence']=np.add(train.creativeID.values,train.residence.astype(float).values/10000)*10000"
   ]
  },
  {
   "cell_type": "code",
   "execution_count": 149,
   "metadata": {
    "collapsed": false
   },
   "outputs": [],
   "source": [
    "train['creativeID_hour']=np.add(train.creativeID.values,train.hour.astype(float).values/100)*100"
   ]
  },
  {
   "cell_type": "code",
   "execution_count": 150,
   "metadata": {
    "collapsed": false
   },
   "outputs": [],
   "source": [
    "train['sitesetID_positionType']=np.add(train.sitesetID.values,train.positionType.astype(float).values/10)*10"
   ]
  },
  {
   "cell_type": "code",
   "execution_count": 151,
   "metadata": {
    "collapsed": false,
    "scrolled": true
   },
   "outputs": [],
   "source": [
    "train['creativeID_residence2']=np.add(train.creativeID.values,train.residence2.astype(float).values/100)*100"
   ]
  },
  {
   "cell_type": "code",
   "execution_count": 21,
   "metadata": {
    "collapsed": false
   },
   "outputs": [
    {
     "data": {
      "text/html": [
       "<div>\n",
       "<table border=\"1\" class=\"dataframe\">\n",
       "  <thead>\n",
       "    <tr style=\"text-align: right;\">\n",
       "      <th></th>\n",
       "      <th>label</th>\n",
       "      <th>clickTime</th>\n",
       "      <th>conversionTime</th>\n",
       "      <th>creativeID</th>\n",
       "      <th>userID</th>\n",
       "      <th>positionID</th>\n",
       "      <th>connectionType</th>\n",
       "      <th>telecomsOperator</th>\n",
       "      <th>adID</th>\n",
       "      <th>camgaignID</th>\n",
       "      <th>...</th>\n",
       "      <th>hour</th>\n",
       "      <th>residence2</th>\n",
       "      <th>creativeID_age</th>\n",
       "      <th>creativeID_gender</th>\n",
       "      <th>creativeID_education</th>\n",
       "      <th>creativeID_marriageStatus</th>\n",
       "      <th>creativeID_haveBaby</th>\n",
       "      <th>creativeID_residence</th>\n",
       "      <th>creativeID_hour</th>\n",
       "      <th>creativeID_residence2</th>\n",
       "    </tr>\n",
       "  </thead>\n",
       "  <tbody>\n",
       "    <tr>\n",
       "      <th>0</th>\n",
       "      <td>0</td>\n",
       "      <td>170000</td>\n",
       "      <td>NaN</td>\n",
       "      <td>3089</td>\n",
       "      <td>2798058</td>\n",
       "      <td>293</td>\n",
       "      <td>1</td>\n",
       "      <td>1</td>\n",
       "      <td>1321</td>\n",
       "      <td>83</td>\n",
       "      <td>...</td>\n",
       "      <td>0</td>\n",
       "      <td>13</td>\n",
       "      <td>52263</td>\n",
       "      <td>6458</td>\n",
       "      <td>15066</td>\n",
       "      <td>9475</td>\n",
       "      <td>8965</td>\n",
       "      <td>122166</td>\n",
       "      <td>30118</td>\n",
       "      <td>33699</td>\n",
       "    </tr>\n",
       "  </tbody>\n",
       "</table>\n",
       "<p>1 rows × 34 columns</p>\n",
       "</div>"
      ],
      "text/plain": [
       "   label  clickTime  conversionTime  creativeID   userID  positionID  \\\n",
       "0      0     170000             NaN        3089  2798058         293   \n",
       "\n",
       "   connectionType  telecomsOperator  adID  camgaignID          ...            \\\n",
       "0               1                 1  1321          83          ...             \n",
       "\n",
       "   hour  residence2  creativeID_age  creativeID_gender  creativeID_education  \\\n",
       "0     0          13           52263               6458                 15066   \n",
       "\n",
       "   creativeID_marriageStatus  creativeID_haveBaby  creativeID_residence  \\\n",
       "0                       9475                 8965                122166   \n",
       "\n",
       "   creativeID_hour  creativeID_residence2  \n",
       "0            30118                  33699  \n",
       "\n",
       "[1 rows x 34 columns]"
      ]
     },
     "execution_count": 21,
     "metadata": {},
     "output_type": "execute_result"
    }
   ],
   "source": [
    "train[0:1]"
   ]
  },
  {
   "cell_type": "code",
   "execution_count": 152,
   "metadata": {
    "collapsed": false
   },
   "outputs": [],
   "source": [
    "train['creativeID_positionID']=np.add(train.creativeID.values,train.positionID.astype(float).values/10000)*10000"
   ]
  },
  {
   "cell_type": "code",
   "execution_count": 153,
   "metadata": {
    "collapsed": false
   },
   "outputs": [],
   "source": [
    "train['creativeID_telecomsOperator']=np.add(train.creativeID.values,train.positionID.astype(float).values/10)*10"
   ]
  },
  {
   "cell_type": "code",
   "execution_count": 154,
   "metadata": {
    "collapsed": false
   },
   "outputs": [],
   "source": [
    "train['creativeID_sitesetID']=np.add(train.creativeID.values,train.sitesetID.astype(float).values/10)*10"
   ]
  },
  {
   "cell_type": "code",
   "execution_count": 155,
   "metadata": {
    "collapsed": false
   },
   "outputs": [],
   "source": [
    "train['connectionType_residence']=np.add(train.connectionType.values,train.residence.astype(float).values/10)*10"
   ]
  },
  {
   "cell_type": "code",
   "execution_count": 156,
   "metadata": {
    "collapsed": false
   },
   "outputs": [],
   "source": [
    "train['connectionType_residence2']=np.add(train.connectionType.values,train.residence2.astype(float).values/10)*10"
   ]
  },
  {
   "cell_type": "code",
   "execution_count": 157,
   "metadata": {
    "collapsed": false
   },
   "outputs": [],
   "source": [
    "train['adID_advertiserID']=np.add(train.adID.values,train.advertiserID.astype(float).values/100)*100"
   ]
  },
  {
   "cell_type": "code",
   "execution_count": 158,
   "metadata": {
    "collapsed": false
   },
   "outputs": [],
   "source": [
    "train['adID_age']=np.add(train.adID.values,train.age.astype(float).values/100)*100\n",
    "train['adID_gender']=np.add(train.adID.values,train.gender.astype(float).values/10)*10\n",
    "train['adID_education']=np.add(train.adID.values,train.education.astype(float).values/10)*10\n",
    "train['adID_marriageStatus']=np.add(train.adID.values,train.marriageStatus.astype(float).values/10)*10\n",
    "train['adID_haveBaby']=np.add(train.adID.values,train.haveBaby.astype(float).values/10)*10"
   ]
  },
  {
   "cell_type": "code",
   "execution_count": 159,
   "metadata": {
    "collapsed": false
   },
   "outputs": [],
   "source": [
    "train['age_gender']=np.add(train.age.values,train.gender.astype(float).values/10)*10"
   ]
  },
  {
   "cell_type": "code",
   "execution_count": 160,
   "metadata": {
    "collapsed": false
   },
   "outputs": [],
   "source": [
    "train['age_gender_edu']=np.add(train.age_gender.values,train.education.astype(float).values/10)*10"
   ]
  },
  {
   "cell_type": "code",
   "execution_count": 161,
   "metadata": {
    "collapsed": true
   },
   "outputs": [],
   "source": [
    "train['camgaignID_age']=np.add(train.camgaignID.values,train.age.astype(float).values/100)*100\n",
    "train['camgaignID_gender']=np.add(train.camgaignID.values,train.gender.astype(float).values/10)*10\n",
    "train['camgaignID_education']=np.add(train.camgaignID.values,train.education.astype(float).values/10)*10\n",
    "train['camgaignID_marriageStatus']=np.add(train.camgaignID.values,train.marriageStatus.astype(float).values/10)*10\n",
    "train['camgaignID_haveBaby']=np.add(train.camgaignID.values,train.haveBaby.astype(float).values/10)*10"
   ]
  },
  {
   "cell_type": "code",
   "execution_count": 162,
   "metadata": {
    "collapsed": false
   },
   "outputs": [],
   "source": [
    "train['camgaignID_age_gender_edu']=np.add(train.camgaignID.values,train.age_gender_edu.astype(float).values/10000)*10000"
   ]
  },
  {
   "cell_type": "code",
   "execution_count": 163,
   "metadata": {
    "collapsed": false
   },
   "outputs": [],
   "source": [
    "train['adID_age_gender_edu']=np.add(train.adID.values,train.age_gender_edu.astype(float).values/10000)*10000"
   ]
  },
  {
   "cell_type": "code",
   "execution_count": 164,
   "metadata": {
    "collapsed": false
   },
   "outputs": [],
   "source": [
    "train['creativeID_age_gender_edu']=np.add(train.creativeID.values,train.age_gender_edu.astype(float).values/10000)*10000"
   ]
  },
  {
   "cell_type": "code",
   "execution_count": 165,
   "metadata": {
    "collapsed": true
   },
   "outputs": [],
   "source": [
    "train['appID_age']=np.add(train.appID.values,train.age.astype(float).values/100)*100\n",
    "train['appID_gender']=np.add(train.appID.values,train.gender.astype(float).values/10)*10\n",
    "train['appID_education']=np.add(train.appID.values,train.education.astype(float).values/10)*10\n",
    "train['appID_marriageStatus']=np.add(train.appID.values,train.marriageStatus.astype(float).values/10)*10\n",
    "train['appID_haveBaby']=np.add(train.appID.values,train.haveBaby.astype(float).values/10)*10"
   ]
  },
  {
   "cell_type": "code",
   "execution_count": 166,
   "metadata": {
    "collapsed": true
   },
   "outputs": [],
   "source": [
    "train['appID_age_gender_edu']=np.add(train.appID.values,train.age_gender_edu.astype(float).values/10000)*10000"
   ]
  },
  {
   "cell_type": "code",
   "execution_count": 167,
   "metadata": {
    "collapsed": true
   },
   "outputs": [],
   "source": [
    "train['appID_appPlatform']=np.add(train.appID.values,train.appPlatform.astype(float).values/10)*10"
   ]
  },
  {
   "cell_type": "code",
   "execution_count": 168,
   "metadata": {
    "collapsed": true
   },
   "outputs": [],
   "source": [
    "train['appPlatform_age']=np.add(train.appPlatform.values,train.age.astype(float).values/100)*100"
   ]
  },
  {
   "cell_type": "code",
   "execution_count": 169,
   "metadata": {
    "collapsed": true
   },
   "outputs": [],
   "source": [
    "train['appPlatform_edu']=np.add(train.appPlatform.values,train.education.astype(float).values/10)*10"
   ]
  },
  {
   "cell_type": "code",
   "execution_count": 170,
   "metadata": {
    "collapsed": true
   },
   "outputs": [],
   "source": [
    "train['appPlatform_age_gender_edu']=np.add(train.appPlatform.values,train.age_gender_edu.astype(float).values/10000)*10000"
   ]
  },
  {
   "cell_type": "code",
   "execution_count": 171,
   "metadata": {
    "collapsed": true
   },
   "outputs": [],
   "source": [
    "train['camgaignID_age']=np.add(train.camgaignID.values,train.age.astype(float).values/100)*100\n",
    "train['camgaignID_gender']=np.add(train.camgaignID.values,train.gender.astype(float).values/10)*10\n",
    "train['camgaignID_education']=np.add(train.camgaignID.values,train.education.astype(float).values/10)*10\n",
    "train['camgaignID_marriageStatus']=np.add(train.camgaignID.values,train.marriageStatus.astype(float).values/10)*10\n",
    "train['camgaignID_haveBaby']=np.add(train.camgaignID.values,train.haveBaby.astype(float).values/10)*10"
   ]
  },
  {
   "cell_type": "code",
   "execution_count": 172,
   "metadata": {
    "collapsed": true
   },
   "outputs": [],
   "source": [
    "train['camgaignID_age_gender_edu']=np.add(train.camgaignID.values,train.age_gender_edu.astype(float).values/10000)*10000"
   ]
  },
  {
   "cell_type": "code",
   "execution_count": 173,
   "metadata": {
    "collapsed": true
   },
   "outputs": [],
   "source": [
    "train['positionID_age']=np.add(train.positionID.values,train.age.astype(float).values/100)*100\n",
    "train['positionID_gender']=np.add(train.positionID.values,train.gender.astype(float).values/10)*10\n",
    "train['positionID_education']=np.add(train.positionID.values,train.education.astype(float).values/10)*10\n",
    "train['positionID_marriageStatus']=np.add(train.positionID.values,train.marriageStatus.astype(float).values/10)*10\n",
    "train['positionID_haveBaby']=np.add(train.positionID.values,train.haveBaby.astype(float).values/10)*10"
   ]
  },
  {
   "cell_type": "code",
   "execution_count": 174,
   "metadata": {
    "collapsed": false
   },
   "outputs": [],
   "source": [
    "train['positionID_age_gender_edu']=np.add(train.positionID.values,train.age_gender_edu.astype(float).values/10000)*10000"
   ]
  },
  {
   "cell_type": "code",
   "execution_count": 135,
   "metadata": {
    "collapsed": false
   },
   "outputs": [
    {
     "data": {
      "text/plain": [
       "0"
      ]
     },
     "execution_count": 135,
     "metadata": {},
     "output_type": "execute_result"
    }
   ],
   "source": [
    "np.min(train['positionID_age_gender_edu'])"
   ]
  },
  {
   "cell_type": "code",
   "execution_count": 175,
   "metadata": {
    "collapsed": true
   },
   "outputs": [],
   "source": [
    "train['sitesetID_age']=np.add(train.sitesetID.values,train.age.astype(float).values/100)*100\n",
    "train['sitesetID_gender']=np.add(train.sitesetID.values,train.gender.astype(float).values/10)*10\n",
    "train['sitesetID_education']=np.add(train.sitesetID.values,train.education.astype(float).values/10)*10\n",
    "train['sitesetID_marriageStatus']=np.add(train.sitesetID.values,train.marriageStatus.astype(float).values/10)*10\n",
    "train['sitesetID_haveBaby']=np.add(train.sitesetID.values,train.haveBaby.astype(float).values/10)*10"
   ]
  },
  {
   "cell_type": "code",
   "execution_count": 176,
   "metadata": {
    "collapsed": true
   },
   "outputs": [],
   "source": [
    "train['sitesetID_age_gender_edu']=np.add(train.sitesetID.values,train.age_gender_edu.astype(float).values/10000)*10000"
   ]
  },
  {
   "cell_type": "code",
   "execution_count": 177,
   "metadata": {
    "collapsed": false
   },
   "outputs": [],
   "source": [
    "train.to_csv('train_pre11.csv')\n"
   ]
  },
  {
   "cell_type": "code",
   "execution_count": 139,
   "metadata": {
    "collapsed": false
   },
   "outputs": [
    {
     "data": {
      "text/html": [
       "<div>\n",
       "<table border=\"1\" class=\"dataframe\">\n",
       "  <thead>\n",
       "    <tr style=\"text-align: right;\">\n",
       "      <th></th>\n",
       "      <th>label</th>\n",
       "      <th>clickTime</th>\n",
       "      <th>conversionTime</th>\n",
       "      <th>creativeID</th>\n",
       "      <th>userID</th>\n",
       "      <th>positionID</th>\n",
       "      <th>connectionType</th>\n",
       "      <th>telecomsOperator</th>\n",
       "      <th>adID</th>\n",
       "      <th>camgaignID</th>\n",
       "      <th>...</th>\n",
       "      <th>positionID_education</th>\n",
       "      <th>positionID_marriageStatus</th>\n",
       "      <th>positionID_haveBaby</th>\n",
       "      <th>positionID_age_gender_edu</th>\n",
       "      <th>sitesetID_age</th>\n",
       "      <th>sitesetID_gender</th>\n",
       "      <th>sitesetID_education</th>\n",
       "      <th>sitesetID_marriageStatus</th>\n",
       "      <th>sitesetID_haveBaby</th>\n",
       "      <th>sitesetID_age_gender_edu</th>\n",
       "    </tr>\n",
       "  </thead>\n",
       "  <tbody>\n",
       "    <tr>\n",
       "      <th>0</th>\n",
       "      <td>0</td>\n",
       "      <td>170000</td>\n",
       "      <td>NaN</td>\n",
       "      <td>3089</td>\n",
       "      <td>2798058</td>\n",
       "      <td>293</td>\n",
       "      <td>1</td>\n",
       "      <td>1</td>\n",
       "      <td>1321</td>\n",
       "      <td>83</td>\n",
       "      <td>...</td>\n",
       "      <td>1135</td>\n",
       "      <td>770</td>\n",
       "      <td>749</td>\n",
       "      <td>16243</td>\n",
       "      <td>25</td>\n",
       "      <td>2</td>\n",
       "      <td>1</td>\n",
       "      <td>3</td>\n",
       "      <td>1</td>\n",
       "      <td>601</td>\n",
       "    </tr>\n",
       "  </tbody>\n",
       "</table>\n",
       "<p>1 rows × 78 columns</p>\n",
       "</div>"
      ],
      "text/plain": [
       "   label  clickTime  conversionTime  creativeID   userID  positionID  \\\n",
       "0      0     170000             NaN        3089  2798058         293   \n",
       "\n",
       "   connectionType  telecomsOperator  adID  camgaignID  \\\n",
       "0               1                 1  1321          83   \n",
       "\n",
       "             ...             positionID_education  positionID_marriageStatus  \\\n",
       "0            ...                             1135                        770   \n",
       "\n",
       "   positionID_haveBaby  positionID_age_gender_edu  sitesetID_age  \\\n",
       "0                  749                      16243             25   \n",
       "\n",
       "   sitesetID_gender  sitesetID_education  sitesetID_marriageStatus  \\\n",
       "0                 2                    1                         3   \n",
       "\n",
       "   sitesetID_haveBaby  sitesetID_age_gender_edu  \n",
       "0                   1                       601  \n",
       "\n",
       "[1 rows x 78 columns]"
      ]
     },
     "execution_count": 139,
     "metadata": {},
     "output_type": "execute_result"
    }
   ],
   "source": [
    "train[0:1]"
   ]
  },
  {
   "cell_type": "code",
   "execution_count": null,
   "metadata": {
    "collapsed": true
   },
   "outputs": [],
   "source": []
  },
  {
   "cell_type": "code",
   "execution_count": 34,
   "metadata": {
    "collapsed": false
   },
   "outputs": [
    {
     "data": {
      "text/plain": [
       "0    1518413\n",
       "2    1001024\n",
       "1     971478\n",
       "3     258613\n",
       "Name: marriageStatus, dtype: int64"
      ]
     },
     "execution_count": 34,
     "metadata": {},
     "output_type": "execute_result"
    }
   ],
   "source": [
    "train.marriageStatus.value_counts()"
   ]
  },
  {
   "cell_type": "markdown",
   "metadata": {},
   "source": [
    "var = ['label','creativeID','positionID','connectionType','telecomsOperator','adID','camgaignID','advertiserID','appID','appPlatform'\n",
    "         ,'age','gender','education','marriageStatus','haveBaby','hometown','residence','sitesetID','positionType','appCategory','day','hour']\n",
    "\n",
    "\n",
    "'creativeID_age' 'creativeID_gender' 'creativeID_education' 'creativeID_marriageStatus' 'creativeID_haveBaby' \n",
    "'creativeID_residence' 'creativeID_hour''sitesetID_positionType' 'creativeID_hour'"
   ]
  },
  {
   "cell_type": "code",
   "execution_count": 178,
   "metadata": {
    "collapsed": true
   },
   "outputs": [],
   "source": [
    "ft=np.logical_and(train.day.values>=17,train.day.values<=24)\n",
    "train_X = train.ix[ft, :]\n",
    "np.random.seed(999)\n",
    "r1 = np.random.uniform(0, 1, train_X.shape[0])\n",
    "train_X = train_X.ix[r1 < 0.1, :]"
   ]
  },
  {
   "cell_type": "code",
   "execution_count": 191,
   "metadata": {
    "collapsed": false
   },
   "outputs": [
    {
     "data": {
      "text/plain": [
       "4           3.0\n",
       "16          3.0\n",
       "23          3.0\n",
       "28          3.0\n",
       "41          3.0\n",
       "47          3.0\n",
       "68          3.0\n",
       "87          3.0\n",
       "107         3.0\n",
       "132         3.0\n",
       "138         3.0\n",
       "139         3.0\n",
       "165         3.0\n",
       "180         3.0\n",
       "185         3.0\n",
       "208         3.0\n",
       "209         3.0\n",
       "216         3.0\n",
       "217         3.0\n",
       "225         3.0\n",
       "227         3.0\n",
       "263         3.0\n",
       "289         3.0\n",
       "305         3.0\n",
       "307         3.0\n",
       "310         3.0\n",
       "315         3.0\n",
       "329         3.0\n",
       "335         3.0\n",
       "340         3.0\n",
       "           ... \n",
       "3748042    10.0\n",
       "3748044    10.0\n",
       "3748050    10.0\n",
       "3748052    10.0\n",
       "3748055    10.0\n",
       "3748057    10.0\n",
       "3748059    10.0\n",
       "3748062    10.0\n",
       "3748064    10.0\n",
       "3748072    10.0\n",
       "3748073    10.0\n",
       "3748081    10.0\n",
       "3748082    10.0\n",
       "3748086    10.0\n",
       "3748088    10.0\n",
       "3748093    10.0\n",
       "3748094    10.0\n",
       "3748119    10.0\n",
       "3748143    10.0\n",
       "3748148    10.0\n",
       "3748814    10.0\n",
       "3748830    10.0\n",
       "3748831    10.0\n",
       "3748834    10.0\n",
       "3748839    10.0\n",
       "3748840    10.0\n",
       "3748847    10.0\n",
       "3748867    10.0\n",
       "3748876    10.0\n",
       "3748954    10.0\n",
       "Name: sitesetID_positionType, dtype: float64"
      ]
     },
     "execution_count": 191,
     "metadata": {},
     "output_type": "execute_result"
    }
   ],
   "source": [
    "train_X['sitesetID_positionType']"
   ]
  },
  {
   "cell_type": "code",
   "execution_count": 141,
   "metadata": {
    "collapsed": true
   },
   "outputs": [],
   "source": [
    "target='label'\n",
    "day='day'\n",
    "id='instanceID'"
   ]
  },
  {
   "cell_type": "code",
   "execution_count": 199,
   "metadata": {
    "collapsed": false
   },
   "outputs": [
    {
     "data": {
      "text/plain": [
       "<xgboost.core.DMatrix at 0xdb5cf28>"
      ]
     },
     "execution_count": 199,
     "metadata": {},
     "output_type": "execute_result"
    }
   ],
   "source": []
  },
  {
   "cell_type": "code",
   "execution_count": null,
   "metadata": {
    "collapsed": true
   },
   "outputs": [],
   "source": [
    " , 'clickTime', 'conversionTime', 'creativeID', 'userID',\n",
    "       'connectionType', 'telecomsOperator', 'adID',\n",
    "       'camgaignID', 'advertiserID', 'appID',, 'age',\n",
    "        'education', 'marriageStatus', 'haveBaby', 'hometown',\n",
    "       'residence', 'sitesetID',  'appCategory', 'day',\n",
    "       'hour', 'residence2', 'creativeID_age', 'creativeID_gender',\n",
    "       'creativeID_education', \n",
    "       'creativeID_haveBaby', 'creativeID_residence', 'creativeID_hour',\n",
    "        'creativeID_hometown',\n",
    "       'creativeID_positionID', 'creativeID_telecomsOperator',\n",
    "      , 'connectionType_residence',\n",
    "       'connectionType_residence2',, u'adID_age',\n",
    "       u'adID_gender', u'adID_education', u'adID_marriageStatus',\n",
    "       u u'creativeID_advertiserID', u'age_gender',\n",
    "       u'age_gender_edu', u'camgaignID_age', u'camgaignID_gender',\n",
    "       u'camgaignID_education', u\n",
    "       u u'camgaignID_age_gender_edu',\n",
    "       u'adID_age_gender_edu', u'creativeID_age_gender_edu', u'appID_age',\n",
    "       u'appID_gender', u'appID_education', u'appID_marriageStatus',\n",
    "       u'appID_haveBaby', u'appID_age_gender_edu', u'appID_appPlatform',\n",
    "       u'appPlatform_age', uu'appPlatform_age_gender_edu',\n",
    "       u'positionID_age', u u'positionID_education',\n",
    "       u, u\n",
    "       u'positionID_age_gender_edu', u'sitesetID_age', u\n",
    "       uu'sitesetID_marriageStatus',\n",
    "       u'sitesetID_haveBaby']]"
   ]
  },
  {
   "cell_type": "code",
   "execution_count": 206,
   "metadata": {
    "collapsed": false
   },
   "outputs": [
    {
     "name": "stderr",
     "output_type": "stream",
     "text": [
      "F:\\Anaconda2\\lib\\site-packages\\ipykernel\\__main__.py:39: SettingWithCopyWarning: \n",
      "A value is trying to be set on a copy of a slice from a DataFrame.\n",
      "Try using .loc[row_indexer,col_indexer] = value instead\n",
      "\n",
      "See the caveats in the documentation: http://pandas.pydata.org/pandas-docs/stable/indexing.html#indexing-view-versus-copy\n"
     ]
    },
    {
     "data": {
      "image/png": "[encoded data removed]",
      "text/plain": [
       "<matplotlib.figure.Figure at 0xcef0f98>"
      ]
     },
     "metadata": {},
     "output_type": "display_data"
    }
   ],
   "source": [
    "predictors = [x for x in train_X.columns if x not in ['label','conversionTime'\n",
    "                                         ,'camgaignID' ,'adID_advertiserID'  , 'creativeID_sitesetID' ,'creativeID','sitesetID','residence2'\n",
    "                                        ,'creativeID_haveBaby','day', 'creativeID_gender','adID','adID_gender', 'haveBaby','appID'\n",
    "                                        ,'creativeID_residence2','age','sitesetID_positionType','sitesetID_haveBaby', 'marriageStatus'\n",
    "                                        ,'appPlatform_age','adID_haveBaby','camgaignID_haveBaby', 'telecomsOperator','appPlatform_edu','age_gender' ]]xgb1 = XGBClassifier(\n",
    "        learning_rate =0.1,\n",
    "        n_estimators=1000,\n",
    "        max_depth=4,\n",
    "        min_child_weight=1,\n",
    "        gamma=0,\n",
    "        subsample=0.8,\n",
    "        colsample_bytree=0.8,\n",
    "        objective= 'binary:logistic',\n",
    "        nthread=4,\n",
    "        scale_pos_weight=1,\n",
    "        seed=27)\n",
    "\n",
    "alg=xgb1\n",
    "dtrain=train_X\n",
    "cv_folds=5\n",
    "early_stopping_rounds=50\n",
    "xgb_param = alg.get_xgb_params()\n",
    "xgtrain = xgb.DMatrix(dtrain[predictors].values, label=dtrain[target].values)\n",
    "cvresult = xgb.cv(xgb_param, xgtrain, num_boost_round=alg.get_params()['n_estimators'], nfold=cv_folds,\n",
    "            metrics='logloss', early_stopping_rounds=early_stopping_rounds)\n",
    "alg.set_params(n_estimators=cvresult.shape[0])\n",
    "    \n",
    "    #Fit the algorithm on the data\n",
    "alg.fit(dtrain[predictors], dtrain['label'],eval_metric='logloss')\n",
    "         \n",
    "feat_imp = pd.Series(alg.booster().get_fscore()).sort_values(ascending=False)\n",
    "feat_imp.plot(kind='barh', title='Feature Importances',legend=False, figsize=(6, 10))\n",
    "plt.ylabel('Feature Importance Score')\n",
    "\n",
    "dtest=train[train.day.values==25]\n",
    "dtest['predprob'] = alg.predict_proba(dtest[predictors])[:,1]\n",
    "\n"
   ]
  },
  {
   "cell_type": "code",
   "execution_count": 208,
   "metadata": {
    "collapsed": false
   },
   "outputs": [
    {
     "name": "stderr",
     "output_type": "stream",
     "text": [
      "F:\\Anaconda2\\lib\\site-packages\\ipykernel\\__main__.py:2: SettingWithCopyWarning: \n",
      "A value is trying to be set on a copy of a slice from a DataFrame.\n",
      "Try using .loc[row_indexer,col_indexer] = value instead\n",
      "\n",
      "See the caveats in the documentation: http://pandas.pydata.org/pandas-docs/stable/indexing.html#indexing-view-versus-copy\n",
      "  from ipykernel import kernelapp as app\n"
     ]
    }
   ],
   "source": [
    "dtest=train[train.day.values==26]\n",
    "dtest['predprob'] = alg.predict_proba(dtest[predictors])[:,1]"
   ]
  },
  {
   "cell_type": "markdown",
   "metadata": {
    "collapsed": false
   },
   "source": [
    "predictors = [x for x in train_X.columns if x not in ['label','conversionTime'\n",
    "                                         ,'camgaignID' ,'adID_advertiserID'  , 'creativeID_sitesetID' ,'creativeID','sitesetID','residence2'\n",
    "                                        ,'creativeID_haveBaby','day', 'creativeID_gender','adID','adID_gender', 'haveBaby','appID'\n",
    "                                        ,'creativeID_residence2','age','sitesetID_positionType','sitesetID_haveBaby', 'marriageStatus'\n",
    "                                        ,'appPlatform_age','adID_haveBaby','camgaignID_haveBaby', 'telecomsOperator','appPlatform_edu','age_gender'\n",
    "                                                     ,'positionID_marriageStatus','sitesetID_gender','creativeID_marriageStatus','gender','positionID_gender',\n",
    "                                                    'sitesetID_education', 'positionType', 'positionID','positionID_haveBaby','camgaignID_marriageStatus',  'appPlatform']]\n",
    "\n",
    "\n",
    "\n",
    "loss(dtest['label'],dtest['predprob'])"
   ]
  },
  {
   "cell_type": "code",
   "execution_count": 209,
   "metadata": {
    "collapsed": false
   },
   "outputs": [
    {
     "data": {
      "text/plain": [
       "0.024121382794789703"
      ]
     },
     "execution_count": 209,
     "metadata": {},
     "output_type": "execute_result"
    }
   ],
   "source": [
    "loss(dtest['label'],dtest['predprob'])"
   ]
  },
  {
   "cell_type": "markdown",
   "metadata": {
    "collapsed": false
   },
   "source": [
    "predictors = [x for x in train_X.columns if x not in ['label','conversionTime'\n",
    "                                         ,'camgaignID' ,'adID_advertiserID'  , 'creativeID_sitesetID' ,'creativeID','sitesetID','residence2'\n",
    "                                        ,'creativeID_haveBaby','day', 'creativeID_gender','adID','adID_gender', 'haveBaby','appID'\n",
    "                                        ,'creativeID_residence2','age','sitesetID_positionType','sitesetID_haveBaby', 'marriageStatus'\n",
    "                                        ,'appPlatform_age','adID_haveBaby','camgaignID_haveBaby', 'telecomsOperator','appPlatform_edu','age_gender' ]]\n",
    "0.021414073468603186\n",
    "\n",
    "loss(dtest['label'],dtest['predprob'])"
   ]
  },
  {
   "cell_type": "code",
   "execution_count": null,
   "metadata": {
    "collapsed": true
   },
   "outputs": [],
   "source": []
  },
  {
   "cell_type": "code",
   "execution_count": null,
   "metadata": {
    "collapsed": true
   },
   "outputs": [],
   "source": []
  },
  {
   "cell_type": "code",
   "execution_count": null,
   "metadata": {
    "collapsed": true
   },
   "outputs": [],
   "source": []
  },
  {
   "cell_type": "code",
   "execution_count": null,
   "metadata": {
    "collapsed": true
   },
   "outputs": [],
   "source": []
  },
  {
   "cell_type": "code",
   "execution_count": null,
   "metadata": {
    "collapsed": true
   },
   "outputs": [],
   "source": []
  },
  {
   "cell_type": "code",
   "execution_count": null,
   "metadata": {
    "collapsed": true
   },
   "outputs": [],
   "source": []
  },
  {
   "cell_type": "code",
   "execution_count": null,
   "metadata": {
    "collapsed": true
   },
   "outputs": [],
   "source": []
  },
  {
   "cell_type": "code",
   "execution_count": null,
   "metadata": {
    "collapsed": true
   },
   "outputs": [],
   "source": []
  },
  {
   "cell_type": "code",
   "execution_count": null,
   "metadata": {
    "collapsed": true
   },
   "outputs": [],
   "source": []
  },
  {
   "cell_type": "code",
   "execution_count": null,
   "metadata": {
    "collapsed": true
   },
   "outputs": [],
   "source": []
  },
  {
   "cell_type": "code",
   "execution_count": null,
   "metadata": {
    "collapsed": true
   },
   "outputs": [],
   "source": []
  },
  {
   "cell_type": "code",
   "execution_count": null,
   "metadata": {
    "collapsed": true
   },
   "outputs": [],
   "source": []
  },
  {
   "cell_type": "code",
   "execution_count": 90,
   "metadata": {
    "collapsed": false
   },
   "outputs": [],
   "source": [
    "train1=train.drop([\n",
    "       'hour', 'residence2', 'creativeID_age', 'creativeID_gender',\n",
    "       'creativeID_education', 'creativeID_marriageStatus',\n",
    "       'creativeID_haveBaby', 'creativeID_residence', 'creativeID_hour',\n",
    "       'creativeID_residence2', 'creativeID_hometown',\n",
    "       'creativeID_positionID', 'creativeID_telecomsOperator',\n",
    "       'creativeID_sitesetID', 'connectionType_residence',\n",
    "       'connectionType_residence2', 'adID_age',\n",
    "       'adID_gender', 'adID_education', 'adID_marriageStatus',\n",
    "       'adID_haveBaby', 'creativeID_advertiserID', 'age_gender',\n",
    "       'age_gender_edu', 'camgaignID_age', 'camgaignID_gender',\n",
    "       'camgaignID_education', 'camgaignID_marriageStatus',\n",
    "       'camgaignID_haveBaby', 'camgaignID_age_gender_edu',\n",
    "       'adID_age_gender_edu', 'creativeID_age_gender_edu', 'appID_age',\n",
    "       'appID_gender', 'appID_education', 'appID_marriageStatus',\n",
    "       'appID_haveBaby', 'appID_age_gender_edu', 'appID_appPlatform',\n",
    "       'appPlatform_age', 'appPlatform_edu', 'appPlatform_age_gender_edu',\n",
    "       'positionID_age', 'positionID_gender', 'positionID_education',\n",
    "       'positionID_marriageStatus', 'positionID_haveBaby',\n",
    "       'positionID_age_gender_edu', 'sitesetID_age', 'sitesetID_gender',\n",
    "       'sitesetID_education', 'sitesetID_marriageStatus',\n",
    "       'sitesetID_haveBaby'],1)"
   ]
  },
  {
   "cell_type": "code",
   "execution_count": 92,
   "metadata": {
    "collapsed": false
   },
   "outputs": [],
   "source": [
    "del train1['sitesetID_age_gender_edu']"
   ]
  },
  {
   "cell_type": "code",
   "execution_count": 95,
   "metadata": {
    "collapsed": false
   },
   "outputs": [
    {
     "data": {
      "text/html": [
       "<div>\n",
       "<table border=\"1\" class=\"dataframe\">\n",
       "  <thead>\n",
       "    <tr style=\"text-align: right;\">\n",
       "      <th></th>\n",
       "      <th>label</th>\n",
       "      <th>clickTime</th>\n",
       "      <th>conversionTime</th>\n",
       "      <th>creativeID</th>\n",
       "      <th>userID</th>\n",
       "      <th>positionID</th>\n",
       "      <th>connectionType</th>\n",
       "      <th>telecomsOperator</th>\n",
       "      <th>adID</th>\n",
       "      <th>camgaignID</th>\n",
       "      <th>...</th>\n",
       "      <th>gender</th>\n",
       "      <th>education</th>\n",
       "      <th>marriageStatus</th>\n",
       "      <th>haveBaby</th>\n",
       "      <th>hometown</th>\n",
       "      <th>residence</th>\n",
       "      <th>sitesetID</th>\n",
       "      <th>positionType</th>\n",
       "      <th>appCategory</th>\n",
       "      <th>day</th>\n",
       "    </tr>\n",
       "  </thead>\n",
       "  <tbody>\n",
       "    <tr>\n",
       "      <th>0</th>\n",
       "      <td>0</td>\n",
       "      <td>170000</td>\n",
       "      <td>NaN</td>\n",
       "      <td>3089</td>\n",
       "      <td>2798058</td>\n",
       "      <td>293</td>\n",
       "      <td>1</td>\n",
       "      <td>1</td>\n",
       "      <td>1321</td>\n",
       "      <td>83</td>\n",
       "      <td>...</td>\n",
       "      <td>2</td>\n",
       "      <td>1</td>\n",
       "      <td>3</td>\n",
       "      <td>1</td>\n",
       "      <td>0</td>\n",
       "      <td>1301</td>\n",
       "      <td>0</td>\n",
       "      <td>3</td>\n",
       "      <td>108</td>\n",
       "      <td>17</td>\n",
       "    </tr>\n",
       "  </tbody>\n",
       "</table>\n",
       "<p>1 rows × 24 columns</p>\n",
       "</div>"
      ],
      "text/plain": [
       "   label  clickTime  conversionTime  creativeID   userID  positionID  \\\n",
       "0      0     170000             NaN        3089  2798058         293   \n",
       "\n",
       "   connectionType  telecomsOperator  adID  camgaignID ...   gender  education  \\\n",
       "0               1                 1  1321          83 ...        2          1   \n",
       "\n",
       "   marriageStatus  haveBaby  hometown  residence  sitesetID  positionType  \\\n",
       "0               3         1         0       1301          0             3   \n",
       "\n",
       "   appCategory  day  \n",
       "0          108   17  \n",
       "\n",
       "[1 rows x 24 columns]"
      ]
     },
     "execution_count": 95,
     "metadata": {},
     "output_type": "execute_result"
    }
   ],
   "source": [
    " train1[0:1]"
   ]
  },
  {
   "cell_type": "code",
   "execution_count": 88,
   "metadata": {
    "collapsed": false
   },
   "outputs": [
    {
     "ename": "SyntaxError",
     "evalue": "invalid syntax (<ipython-input-88-cf57d09bd566>, line 1)",
     "output_type": "error",
     "traceback": [
      "\u001b[1;36m  File \u001b[1;32m\"<ipython-input-88-cf57d09bd566>\"\u001b[1;36m, line \u001b[1;32m1\u001b[0m\n\u001b[1;33m    train['hometown']value_counts()\u001b[0m\n\u001b[1;37m                                ^\u001b[0m\n\u001b[1;31mSyntaxError\u001b[0m\u001b[1;31m:\u001b[0m invalid syntax\n"
     ]
    }
   ],
   "source": [
    "train.hometown.value_counts()"
   ]
  },
  {
   "cell_type": "code",
   "execution_count": 98,
   "metadata": {
    "collapsed": false
   },
   "outputs": [
    {
     "data": {
      "text/plain": [
       "Index([u'label', u'clickTime', u'conversionTime', u'creativeID', u'userID',\n",
       "       u'positionID', u'connectionType', u'telecomsOperator', u'adID',\n",
       "       u'camgaignID', u'advertiserID', u'appID', u'appPlatform', u'age',\n",
       "       u'gender', u'education', u'marriageStatus', u'haveBaby', u'hometown',\n",
       "       u'residence', u'sitesetID', u'positionType', u'appCategory', u'day'],\n",
       "      dtype='object')"
      ]
     },
     "execution_count": 98,
     "metadata": {},
     "output_type": "execute_result"
    }
   ],
   "source": [
    "train1.columns"
   ]
  },
  {
   "cell_type": "code",
   "execution_count": 108,
   "metadata": {
    "collapsed": false
   },
   "outputs": [
    {
     "data": {
      "text/plain": [
       "54586"
      ]
     },
     "execution_count": 108,
     "metadata": {},
     "output_type": "execute_result"
    }
   ],
   "source": [
    "train1[train1.connectionType==0].shape[0]\n",
    "\n",
    "train[train.age==0].shape[0]\n",
    "\n",
    "train1[train1.telecomsOperator==0].shape[0]\n",
    "\n",
    "train1[train1.appPlatform==0].shape[0]\n",
    "\n",
    "train1[train1.gender==0].shape[0]\n",
    "\n",
    "train1[train1.education==0].shape[0]\n",
    "\n",
    "train1[train1.marriageStatus==0].shape[0]\n",
    "\n",
    "train1[train1.haveBaby==0].shape[0]\n",
    "\n",
    "train1[train1.hometown==0].shape[0]\n",
    "\n",
    "train1[train1.residence==0].shape[0]\n",
    "\n",
    "train1[train1.positionType==0].shape[0]\n",
    "\n",
    "train1[train1.appCategory==0].shape[0]"
   ]
  },
  {
   "cell_type": "code",
   "execution_count": 124,
   "metadata": {
    "collapsed": true
   },
   "outputs": [],
   "source": [
    "filter_t = np.logical_and(train1.age.values==0, train1.haveBaby.values ==0)"
   ]
  },
  {
   "cell_type": "code",
   "execution_count": null,
   "metadata": {
    "collapsed": true
   },
   "outputs": [],
   "source": []
  },
  {
   "cell_type": "code",
   "execution_count": null,
   "metadata": {
    "collapsed": true
   },
   "outputs": [],
   "source": []
  },
  {
   "cell_type": "code",
   "execution_count": null,
   "metadata": {
    "collapsed": true
   },
   "outputs": [],
   "source": []
  },
  {
   "cell_type": "code",
   "execution_count": null,
   "metadata": {
    "collapsed": true
   },
   "outputs": [],
   "source": []
  },
  {
   "cell_type": "code",
   "execution_count": null,
   "metadata": {
    "collapsed": true
   },
   "outputs": [],
   "source": []
  },
  {
   "cell_type": "code",
   "execution_count": 84,
   "metadata": {
    "collapsed": false
   },
   "outputs": [
    {
     "data": {
      "text/plain": [
       "hometown\n",
       "0       0.020746\n",
       "101     0.028782\n",
       "102     0.023887\n",
       "103     0.027868\n",
       "104     0.029418\n",
       "105     0.030524\n",
       "106     0.028724\n",
       "107     0.026367\n",
       "108     0.029023\n",
       "109     0.027293\n",
       "110     0.030581\n",
       "111     0.030204\n",
       "112     0.028225\n",
       "113     0.032104\n",
       "114     0.026550\n",
       "115     0.029348\n",
       "116     0.026663\n",
       "117     0.023162\n",
       "118     0.028424\n",
       "201     0.025962\n",
       "202     0.030440\n",
       "203     0.030314\n",
       "204     0.024072\n",
       "205     0.026052\n",
       "206     0.028584\n",
       "207     0.029450\n",
       "208     0.029630\n",
       "209     0.029143\n",
       "210     0.028134\n",
       "211     0.023219\n",
       "          ...   \n",
       "2813    0.010101\n",
       "2901    0.026114\n",
       "2902    0.027493\n",
       "2903    0.032795\n",
       "2904    0.030246\n",
       "2905    0.027984\n",
       "3001    0.030083\n",
       "3002    0.032230\n",
       "3003    0.032143\n",
       "3004    0.035055\n",
       "3005    0.046392\n",
       "3006    0.027875\n",
       "3007    0.044335\n",
       "3008    0.006757\n",
       "3101    0.037037\n",
       "3102    0.016461\n",
       "3103    0.017316\n",
       "3104    0.021277\n",
       "3105    0.031414\n",
       "3106    0.013889\n",
       "3107    0.010753\n",
       "3201    0.027228\n",
       "3202    0.013333\n",
       "3203    0.032967\n",
       "3204    0.030303\n",
       "3205    0.021739\n",
       "3206    0.021739\n",
       "3207    0.062500\n",
       "3301    0.013304\n",
       "3401    0.013889\n",
       "Name: label, dtype: float64"
      ]
     },
     "execution_count": 84,
     "metadata": {},
     "output_type": "execute_result"
    }
   ],
   "source": [
    "grp1 = train.groupby(['hometown'])\n",
    "sum1 = grp1['label'].aggregate(np.sum)\n",
    "cnt1 = grp1['label'].aggregate(np.size)\n",
    "sum1.astype(float) /cnt1"
   ]
  },
  {
   "cell_type": "code",
   "execution_count": 5,
   "metadata": {
    "collapsed": false
   },
   "outputs": [],
   "source": [
    "train2=train1.drop(['label','hour','sitesetID'],1)\n",
    "\n",
    "train2['zreo']=train2.apply(lambda x: sum(x==0),1)\n",
    "\n",
    "train2['zreo'].value_counts()"
   ]
  },
  {
   "cell_type": "code",
   "execution_count": 8,
   "metadata": {
    "collapsed": false
   },
   "outputs": [
    {
     "data": {
      "text/plain": [
       "(3303872L,)"
      ]
     },
     "execution_count": 8,
     "metadata": {},
     "output_type": "execute_result"
    }
   ],
   "source": [
    "train2.zreo.values.shape"
   ]
  },
  {
   "cell_type": "code",
   "execution_count": 9,
   "metadata": {
    "collapsed": false
   },
   "outputs": [],
   "source": [
    "filter_t = np.logical_and(train2.zreo.values>=0, train2.zreo.values <=2)\n",
    "\n",
    "train_all= train1.ix[filter_t, :]\n",
    "\n",
    "train_all.label.value_counts()"
   ]
  },
  {
   "cell_type": "code",
   "execution_count": 12,
   "metadata": {
    "collapsed": true
   },
   "outputs": [],
   "source": [
    "train_all.to_csv('train_pre.csv',index=False)"
   ]
  },
  {
   "cell_type": "code",
   "execution_count": 15,
   "metadata": {
    "collapsed": false
   },
   "outputs": [
    {
     "data": {
      "text/plain": [
       "(3273158, 19)"
      ]
     },
     "execution_count": 15,
     "metadata": {},
     "output_type": "execute_result"
    }
   ],
   "source": [
    "train_all.shape"
   ]
  },
  {
   "cell_type": "code",
   "execution_count": 1,
   "metadata": {
    "collapsed": true
   },
   "outputs": [],
   "source": [
    "import pandas as pd\n",
    "import numpy as np\n",
    "from pandas import Series,DataFrame\n",
    "import xgboost as xgb\n",
    "from xgboost.sklearn import XGBClassifier\n",
    "from sklearn import cross_validation, metrics\n",
    "from sklearn.grid_search import GridSearchCV\n",
    "\n",
    "import matplotlib.pylab as plt\n",
    "%matplotlib inline\n",
    "from matplotlib.pylab import rcParams\n",
    "rcParams['figure.figsize'] = 12, 4"
   ]
  },
  {
   "cell_type": "code",
   "execution_count": 2,
   "metadata": {
    "collapsed": false
   },
   "outputs": [],
   "source": [
    "train_all=pd.read_csv('train_pre.csv')"
   ]
  },
  {
   "cell_type": "code",
   "execution_count": 16,
   "metadata": {
    "collapsed": true
   },
   "outputs": [],
   "source": [
    "ft=np.logical_and(train_all.day.values>=17,train_all.day.values<=24)\n",
    "\n",
    "train_Small = train_all.ix[ft, :]\n",
    "\n",
    "train_Small.label.value_counts()"
   ]
  },
  {
   "cell_type": "code",
   "execution_count": 21,
   "metadata": {
    "collapsed": true
   },
   "outputs": [],
   "source": [
    "np.random.seed(999)\n",
    "r1 = np.random.uniform(0, 1, train_Small.shape[0])\n",
    "train_X = train_Small.ix[r1 < 0.01, :]"
   ]
  },
  {
   "cell_type": "code",
   "execution_count": 22,
   "metadata": {
    "collapsed": false
   },
   "outputs": [
    {
     "data": {
      "text/plain": [
       "(16952, 19)"
      ]
     },
     "execution_count": 22,
     "metadata": {},
     "output_type": "execute_result"
    }
   ],
   "source": [
    "train_X.shape"
   ]
  },
  {
   "cell_type": "code",
   "execution_count": null,
   "metadata": {
    "collapsed": true
   },
   "outputs": [],
   "source": []
  },
  {
   "cell_type": "code",
   "execution_count": null,
   "metadata": {
    "collapsed": true
   },
   "outputs": [],
   "source": []
  },
  {
   "cell_type": "code",
   "execution_count": null,
   "metadata": {
    "collapsed": true
   },
   "outputs": [],
   "source": []
  },
  {
   "cell_type": "code",
   "execution_count": null,
   "metadata": {
    "collapsed": true
   },
   "outputs": [],
   "source": []
  },
  {
   "cell_type": "code",
   "execution_count": null,
   "metadata": {
    "collapsed": true
   },
   "outputs": [],
   "source": []
  },
  {
   "cell_type": "code",
   "execution_count": null,
   "metadata": {
    "collapsed": true
   },
   "outputs": [],
   "source": []
  },
  {
   "cell_type": "code",
   "execution_count": null,
   "metadata": {
    "collapsed": true
   },
   "outputs": [],
   "source": []
  },
  {
   "cell_type": "code",
   "execution_count": null,
   "metadata": {
    "collapsed": true
   },
   "outputs": [],
   "source": []
  },
  {
   "cell_type": "code",
   "execution_count": null,
   "metadata": {
    "collapsed": true
   },
   "outputs": [],
   "source": []
  },
  {
   "cell_type": "code",
   "execution_count": null,
   "metadata": {
    "collapsed": true
   },
   "outputs": [],
   "source": []
  },
  {
   "cell_type": "code",
   "execution_count": null,
   "metadata": {
    "collapsed": true
   },
   "outputs": [],
   "source": []
  },
  {
   "cell_type": "code",
   "execution_count": null,
   "metadata": {
    "collapsed": true
   },
   "outputs": [],
   "source": []
  },
  {
   "cell_type": "code",
   "execution_count": null,
   "metadata": {
    "collapsed": true
   },
   "outputs": [],
   "source": []
  },
  {
   "cell_type": "code",
   "execution_count": null,
   "metadata": {
    "collapsed": true
   },
   "outputs": [],
   "source": []
  },
  {
   "cell_type": "code",
   "execution_count": null,
   "metadata": {
    "collapsed": true
   },
   "outputs": [],
   "source": []
  },
  {
   "cell_type": "code",
   "execution_count": null,
   "metadata": {
    "collapsed": true
   },
   "outputs": [],
   "source": []
  },
  {
   "cell_type": "code",
   "execution_count": 48,
   "metadata": {
    "collapsed": false
   },
   "outputs": [
    {
     "data": {
      "text/plain": [
       "array([0, 0, 0, ..., 0, 0, 0], dtype=int64)"
      ]
     },
     "execution_count": 48,
     "metadata": {},
     "output_type": "execute_result"
    }
   ],
   "source": [
    "train_X['label'].values"
   ]
  },
  {
   "cell_type": "code",
   "execution_count": 127,
   "metadata": {
    "collapsed": true
   },
   "outputs": [],
   "source": [
    "test_X = train_all.ix[train_all.day.values==25]"
   ]
  },
  {
   "cell_type": "code",
   "execution_count": 128,
   "metadata": {
    "collapsed": false
   },
   "outputs": [],
   "source": [
    "np.random.seed(999)\n",
    "r1 = np.random.uniform(0, 1, test_X.shape[0])\n",
    "test_X = test_X.ix[r1 < 0.5, :]"
   ]
  },
  {
   "cell_type": "code",
   "execution_count": 129,
   "metadata": {
    "collapsed": false
   },
   "outputs": [
    {
     "data": {
      "text/plain": [
       "112313"
      ]
     },
     "execution_count": 129,
     "metadata": {},
     "output_type": "execute_result"
    }
   ],
   "source": [
    "test_X.shape[0]"
   ]
  },
  {
   "cell_type": "code",
   "execution_count": 130,
   "metadata": {
    "collapsed": true
   },
   "outputs": [],
   "source": [
    "test_results=test_X"
   ]
  },
  {
   "cell_type": "markdown",
   "metadata": {
    "collapsed": true
   },
   "source": [
    "                        预处理"
   ]
  },
  {
   "cell_type": "code",
   "execution_count": null,
   "metadata": {
    "collapsed": true
   },
   "outputs": [],
   "source": []
  },
  {
   "cell_type": "code",
   "execution_count": 22,
   "metadata": {
    "collapsed": false
   },
   "outputs": [
    {
     "ename": "KeyError",
     "evalue": "'appID'",
     "output_type": "error",
     "traceback": [
      "\u001b[1;31m---------------------------------------------------------------------------\u001b[0m",
      "\u001b[1;31mKeyError\u001b[0m                                  Traceback (most recent call last)",
      "\u001b[1;32m<ipython-input-22-0e64479243a3>\u001b[0m in \u001b[0;36m<module>\u001b[1;34m()\u001b[0m\n\u001b[0;32m      2\u001b[0m \u001b[0mtest\u001b[0m\u001b[1;33m=\u001b[0m\u001b[0mpd\u001b[0m\u001b[1;33m.\u001b[0m\u001b[0mmerge\u001b[0m\u001b[1;33m(\u001b[0m\u001b[0mtest\u001b[0m\u001b[1;33m,\u001b[0m\u001b[0muser\u001b[0m\u001b[1;33m,\u001b[0m\u001b[0mon\u001b[0m\u001b[1;33m=\u001b[0m\u001b[1;34m'userID'\u001b[0m\u001b[1;33m)\u001b[0m\u001b[1;33m\u001b[0m\u001b[0m\n\u001b[0;32m      3\u001b[0m \u001b[0mtest\u001b[0m\u001b[1;33m=\u001b[0m\u001b[0mpd\u001b[0m\u001b[1;33m.\u001b[0m\u001b[0mmerge\u001b[0m\u001b[1;33m(\u001b[0m\u001b[0mtest\u001b[0m\u001b[1;33m,\u001b[0m\u001b[0mposition\u001b[0m\u001b[1;33m,\u001b[0m\u001b[0mon\u001b[0m\u001b[1;33m=\u001b[0m\u001b[1;34m'positionID'\u001b[0m\u001b[1;33m)\u001b[0m\u001b[1;33m\u001b[0m\u001b[0m\n\u001b[1;32m----> 4\u001b[1;33m \u001b[0mtest\u001b[0m\u001b[1;33m=\u001b[0m\u001b[0mpd\u001b[0m\u001b[1;33m.\u001b[0m\u001b[0mmerge\u001b[0m\u001b[1;33m(\u001b[0m\u001b[0mtest\u001b[0m\u001b[1;33m,\u001b[0m\u001b[0mapp_categories\u001b[0m\u001b[1;33m,\u001b[0m\u001b[0mon\u001b[0m\u001b[1;33m=\u001b[0m\u001b[1;34m'appID'\u001b[0m\u001b[1;33m)\u001b[0m\u001b[1;33m\u001b[0m\u001b[0m\n\u001b[0m\u001b[0;32m      5\u001b[0m \u001b[0mtest\u001b[0m\u001b[1;33m[\u001b[0m\u001b[1;34m'day'\u001b[0m\u001b[1;33m]\u001b[0m\u001b[1;33m=\u001b[0m\u001b[0mtest\u001b[0m\u001b[1;33m.\u001b[0m\u001b[0mclickTime\u001b[0m\u001b[1;33m.\u001b[0m\u001b[0mvalues\u001b[0m\u001b[1;33m/\u001b[0m\u001b[1;36m10000\u001b[0m\u001b[1;33m\u001b[0m\u001b[0m\n\u001b[0;32m      6\u001b[0m \u001b[0mtest\u001b[0m\u001b[1;33m[\u001b[0m\u001b[1;34m'hour'\u001b[0m\u001b[1;33m]\u001b[0m\u001b[1;33m=\u001b[0m\u001b[0mtest\u001b[0m\u001b[1;33m.\u001b[0m\u001b[0mclickTime\u001b[0m\u001b[1;33m.\u001b[0m\u001b[0mvalues\u001b[0m\u001b[1;33m/\u001b[0m\u001b[1;36m100\u001b[0m\u001b[1;33m%\u001b[0m\u001b[1;36m100\u001b[0m\u001b[1;33m\u001b[0m\u001b[0m\n",
      "\u001b[1;32mF:\\Anaconda2\\lib\\site-packages\\pandas\\tools\\merge.pyc\u001b[0m in \u001b[0;36mmerge\u001b[1;34m(left, right, how, on, left_on, right_on, left_index, right_index, sort, suffixes, copy, indicator)\u001b[0m\n\u001b[0;32m     32\u001b[0m                          \u001b[0mright_on\u001b[0m\u001b[1;33m=\u001b[0m\u001b[0mright_on\u001b[0m\u001b[1;33m,\u001b[0m \u001b[0mleft_index\u001b[0m\u001b[1;33m=\u001b[0m\u001b[0mleft_index\u001b[0m\u001b[1;33m,\u001b[0m\u001b[1;33m\u001b[0m\u001b[0m\n\u001b[0;32m     33\u001b[0m                          \u001b[0mright_index\u001b[0m\u001b[1;33m=\u001b[0m\u001b[0mright_index\u001b[0m\u001b[1;33m,\u001b[0m \u001b[0msort\u001b[0m\u001b[1;33m=\u001b[0m\u001b[0msort\u001b[0m\u001b[1;33m,\u001b[0m \u001b[0msuffixes\u001b[0m\u001b[1;33m=\u001b[0m\u001b[0msuffixes\u001b[0m\u001b[1;33m,\u001b[0m\u001b[1;33m\u001b[0m\u001b[0m\n\u001b[1;32m---> 34\u001b[1;33m                          copy=copy, indicator=indicator)\n\u001b[0m\u001b[0;32m     35\u001b[0m     \u001b[1;32mreturn\u001b[0m \u001b[0mop\u001b[0m\u001b[1;33m.\u001b[0m\u001b[0mget_result\u001b[0m\u001b[1;33m(\u001b[0m\u001b[1;33m)\u001b[0m\u001b[1;33m\u001b[0m\u001b[0m\n\u001b[0;32m     36\u001b[0m \u001b[1;32mif\u001b[0m \u001b[0m__debug__\u001b[0m\u001b[1;33m:\u001b[0m\u001b[1;33m\u001b[0m\u001b[0m\n",
      "\u001b[1;32mF:\\Anaconda2\\lib\\site-packages\\pandas\\tools\\merge.pyc\u001b[0m in \u001b[0;36m__init__\u001b[1;34m(self, left, right, how, on, left_on, right_on, axis, left_index, right_index, sort, suffixes, copy, indicator)\u001b[0m\n\u001b[0;32m    197\u001b[0m         (self.left_join_keys,\n\u001b[0;32m    198\u001b[0m          \u001b[0mself\u001b[0m\u001b[1;33m.\u001b[0m\u001b[0mright_join_keys\u001b[0m\u001b[1;33m,\u001b[0m\u001b[1;33m\u001b[0m\u001b[0m\n\u001b[1;32m--> 199\u001b[1;33m          self.join_names) = self._get_merge_keys()\n\u001b[0m\u001b[0;32m    200\u001b[0m \u001b[1;33m\u001b[0m\u001b[0m\n\u001b[0;32m    201\u001b[0m     \u001b[1;32mdef\u001b[0m \u001b[0mget_result\u001b[0m\u001b[1;33m(\u001b[0m\u001b[0mself\u001b[0m\u001b[1;33m)\u001b[0m\u001b[1;33m:\u001b[0m\u001b[1;33m\u001b[0m\u001b[0m\n",
      "\u001b[1;32mF:\\Anaconda2\\lib\\site-packages\\pandas\\tools\\merge.pyc\u001b[0m in \u001b[0;36m_get_merge_keys\u001b[1;34m(self)\u001b[0m\n\u001b[0;32m    430\u001b[0m                     \u001b[1;32melse\u001b[0m\u001b[1;33m:\u001b[0m\u001b[1;33m\u001b[0m\u001b[0m\n\u001b[0;32m    431\u001b[0m                         \u001b[0mright_keys\u001b[0m\u001b[1;33m.\u001b[0m\u001b[0mappend\u001b[0m\u001b[1;33m(\u001b[0m\u001b[0mrk\u001b[0m\u001b[1;33m)\u001b[0m\u001b[1;33m\u001b[0m\u001b[0m\n\u001b[1;32m--> 432\u001b[1;33m                     \u001b[0mleft_keys\u001b[0m\u001b[1;33m.\u001b[0m\u001b[0mappend\u001b[0m\u001b[1;33m(\u001b[0m\u001b[0mleft\u001b[0m\u001b[1;33m[\u001b[0m\u001b[0mlk\u001b[0m\u001b[1;33m]\u001b[0m\u001b[1;33m.\u001b[0m\u001b[0m_values\u001b[0m\u001b[1;33m)\u001b[0m\u001b[1;33m\u001b[0m\u001b[0m\n\u001b[0m\u001b[0;32m    433\u001b[0m                     \u001b[0mjoin_names\u001b[0m\u001b[1;33m.\u001b[0m\u001b[0mappend\u001b[0m\u001b[1;33m(\u001b[0m\u001b[0mlk\u001b[0m\u001b[1;33m)\u001b[0m\u001b[1;33m\u001b[0m\u001b[0m\n\u001b[0;32m    434\u001b[0m         \u001b[1;32melif\u001b[0m \u001b[0m_any\u001b[0m\u001b[1;33m(\u001b[0m\u001b[0mself\u001b[0m\u001b[1;33m.\u001b[0m\u001b[0mleft_on\u001b[0m\u001b[1;33m)\u001b[0m\u001b[1;33m:\u001b[0m\u001b[1;33m\u001b[0m\u001b[0m\n",
      "\u001b[1;32mF:\\Anaconda2\\lib\\site-packages\\pandas\\core\\frame.pyc\u001b[0m in \u001b[0;36m__getitem__\u001b[1;34m(self, key)\u001b[0m\n\u001b[0;32m   1990\u001b[0m             \u001b[1;32mreturn\u001b[0m \u001b[0mself\u001b[0m\u001b[1;33m.\u001b[0m\u001b[0m_getitem_multilevel\u001b[0m\u001b[1;33m(\u001b[0m\u001b[0mkey\u001b[0m\u001b[1;33m)\u001b[0m\u001b[1;33m\u001b[0m\u001b[0m\n\u001b[0;32m   1991\u001b[0m         \u001b[1;32melse\u001b[0m\u001b[1;33m:\u001b[0m\u001b[1;33m\u001b[0m\u001b[0m\n\u001b[1;32m-> 1992\u001b[1;33m             \u001b[1;32mreturn\u001b[0m \u001b[0mself\u001b[0m\u001b[1;33m.\u001b[0m\u001b[0m_getitem_column\u001b[0m\u001b[1;33m(\u001b[0m\u001b[0mkey\u001b[0m\u001b[1;33m)\u001b[0m\u001b[1;33m\u001b[0m\u001b[0m\n\u001b[0m\u001b[0;32m   1993\u001b[0m \u001b[1;33m\u001b[0m\u001b[0m\n\u001b[0;32m   1994\u001b[0m     \u001b[1;32mdef\u001b[0m \u001b[0m_getitem_column\u001b[0m\u001b[1;33m(\u001b[0m\u001b[0mself\u001b[0m\u001b[1;33m,\u001b[0m \u001b[0mkey\u001b[0m\u001b[1;33m)\u001b[0m\u001b[1;33m:\u001b[0m\u001b[1;33m\u001b[0m\u001b[0m\n",
      "\u001b[1;32mF:\\Anaconda2\\lib\\site-packages\\pandas\\core\\frame.pyc\u001b[0m in \u001b[0;36m_getitem_column\u001b[1;34m(self, key)\u001b[0m\n\u001b[0;32m   1997\u001b[0m         \u001b[1;31m# get column\u001b[0m\u001b[1;33m\u001b[0m\u001b[1;33m\u001b[0m\u001b[0m\n\u001b[0;32m   1998\u001b[0m         \u001b[1;32mif\u001b[0m \u001b[0mself\u001b[0m\u001b[1;33m.\u001b[0m\u001b[0mcolumns\u001b[0m\u001b[1;33m.\u001b[0m\u001b[0mis_unique\u001b[0m\u001b[1;33m:\u001b[0m\u001b[1;33m\u001b[0m\u001b[0m\n\u001b[1;32m-> 1999\u001b[1;33m             \u001b[1;32mreturn\u001b[0m \u001b[0mself\u001b[0m\u001b[1;33m.\u001b[0m\u001b[0m_get_item_cache\u001b[0m\u001b[1;33m(\u001b[0m\u001b[0mkey\u001b[0m\u001b[1;33m)\u001b[0m\u001b[1;33m\u001b[0m\u001b[0m\n\u001b[0m\u001b[0;32m   2000\u001b[0m \u001b[1;33m\u001b[0m\u001b[0m\n\u001b[0;32m   2001\u001b[0m         \u001b[1;31m# duplicate columns & possible reduce dimensionality\u001b[0m\u001b[1;33m\u001b[0m\u001b[1;33m\u001b[0m\u001b[0m\n",
      "\u001b[1;32mF:\\Anaconda2\\lib\\site-packages\\pandas\\core\\generic.pyc\u001b[0m in \u001b[0;36m_get_item_cache\u001b[1;34m(self, item)\u001b[0m\n\u001b[0;32m   1343\u001b[0m         \u001b[0mres\u001b[0m \u001b[1;33m=\u001b[0m \u001b[0mcache\u001b[0m\u001b[1;33m.\u001b[0m\u001b[0mget\u001b[0m\u001b[1;33m(\u001b[0m\u001b[0mitem\u001b[0m\u001b[1;33m)\u001b[0m\u001b[1;33m\u001b[0m\u001b[0m\n\u001b[0;32m   1344\u001b[0m         \u001b[1;32mif\u001b[0m \u001b[0mres\u001b[0m \u001b[1;32mis\u001b[0m \u001b[0mNone\u001b[0m\u001b[1;33m:\u001b[0m\u001b[1;33m\u001b[0m\u001b[0m\n\u001b[1;32m-> 1345\u001b[1;33m             \u001b[0mvalues\u001b[0m \u001b[1;33m=\u001b[0m \u001b[0mself\u001b[0m\u001b[1;33m.\u001b[0m\u001b[0m_data\u001b[0m\u001b[1;33m.\u001b[0m\u001b[0mget\u001b[0m\u001b[1;33m(\u001b[0m\u001b[0mitem\u001b[0m\u001b[1;33m)\u001b[0m\u001b[1;33m\u001b[0m\u001b[0m\n\u001b[0m\u001b[0;32m   1346\u001b[0m             \u001b[0mres\u001b[0m \u001b[1;33m=\u001b[0m \u001b[0mself\u001b[0m\u001b[1;33m.\u001b[0m\u001b[0m_box_item_values\u001b[0m\u001b[1;33m(\u001b[0m\u001b[0mitem\u001b[0m\u001b[1;33m,\u001b[0m \u001b[0mvalues\u001b[0m\u001b[1;33m)\u001b[0m\u001b[1;33m\u001b[0m\u001b[0m\n\u001b[0;32m   1347\u001b[0m             \u001b[0mcache\u001b[0m\u001b[1;33m[\u001b[0m\u001b[0mitem\u001b[0m\u001b[1;33m]\u001b[0m \u001b[1;33m=\u001b[0m \u001b[0mres\u001b[0m\u001b[1;33m\u001b[0m\u001b[0m\n",
      "\u001b[1;32mF:\\Anaconda2\\lib\\site-packages\\pandas\\core\\internals.pyc\u001b[0m in \u001b[0;36mget\u001b[1;34m(self, item, fastpath)\u001b[0m\n\u001b[0;32m   3223\u001b[0m \u001b[1;33m\u001b[0m\u001b[0m\n\u001b[0;32m   3224\u001b[0m             \u001b[1;32mif\u001b[0m \u001b[1;32mnot\u001b[0m \u001b[0misnull\u001b[0m\u001b[1;33m(\u001b[0m\u001b[0mitem\u001b[0m\u001b[1;33m)\u001b[0m\u001b[1;33m:\u001b[0m\u001b[1;33m\u001b[0m\u001b[0m\n\u001b[1;32m-> 3225\u001b[1;33m                 \u001b[0mloc\u001b[0m \u001b[1;33m=\u001b[0m \u001b[0mself\u001b[0m\u001b[1;33m.\u001b[0m\u001b[0mitems\u001b[0m\u001b[1;33m.\u001b[0m\u001b[0mget_loc\u001b[0m\u001b[1;33m(\u001b[0m\u001b[0mitem\u001b[0m\u001b[1;33m)\u001b[0m\u001b[1;33m\u001b[0m\u001b[0m\n\u001b[0m\u001b[0;32m   3226\u001b[0m             \u001b[1;32melse\u001b[0m\u001b[1;33m:\u001b[0m\u001b[1;33m\u001b[0m\u001b[0m\n\u001b[0;32m   3227\u001b[0m                 \u001b[0mindexer\u001b[0m \u001b[1;33m=\u001b[0m \u001b[0mnp\u001b[0m\u001b[1;33m.\u001b[0m\u001b[0marange\u001b[0m\u001b[1;33m(\u001b[0m\u001b[0mlen\u001b[0m\u001b[1;33m(\u001b[0m\u001b[0mself\u001b[0m\u001b[1;33m.\u001b[0m\u001b[0mitems\u001b[0m\u001b[1;33m)\u001b[0m\u001b[1;33m)\u001b[0m\u001b[1;33m[\u001b[0m\u001b[0misnull\u001b[0m\u001b[1;33m(\u001b[0m\u001b[0mself\u001b[0m\u001b[1;33m.\u001b[0m\u001b[0mitems\u001b[0m\u001b[1;33m)\u001b[0m\u001b[1;33m]\u001b[0m\u001b[1;33m\u001b[0m\u001b[0m\n",
      "\u001b[1;32mF:\\Anaconda2\\lib\\site-packages\\pandas\\indexes\\base.pyc\u001b[0m in \u001b[0;36mget_loc\u001b[1;34m(self, key, method, tolerance)\u001b[0m\n\u001b[0;32m   1876\u001b[0m                 \u001b[1;32mreturn\u001b[0m \u001b[0mself\u001b[0m\u001b[1;33m.\u001b[0m\u001b[0m_engine\u001b[0m\u001b[1;33m.\u001b[0m\u001b[0mget_loc\u001b[0m\u001b[1;33m(\u001b[0m\u001b[0mkey\u001b[0m\u001b[1;33m)\u001b[0m\u001b[1;33m\u001b[0m\u001b[0m\n\u001b[0;32m   1877\u001b[0m             \u001b[1;32mexcept\u001b[0m \u001b[0mKeyError\u001b[0m\u001b[1;33m:\u001b[0m\u001b[1;33m\u001b[0m\u001b[0m\n\u001b[1;32m-> 1878\u001b[1;33m                 \u001b[1;32mreturn\u001b[0m \u001b[0mself\u001b[0m\u001b[1;33m.\u001b[0m\u001b[0m_engine\u001b[0m\u001b[1;33m.\u001b[0m\u001b[0mget_loc\u001b[0m\u001b[1;33m(\u001b[0m\u001b[0mself\u001b[0m\u001b[1;33m.\u001b[0m\u001b[0m_maybe_cast_indexer\u001b[0m\u001b[1;33m(\u001b[0m\u001b[0mkey\u001b[0m\u001b[1;33m)\u001b[0m\u001b[1;33m)\u001b[0m\u001b[1;33m\u001b[0m\u001b[0m\n\u001b[0m\u001b[0;32m   1879\u001b[0m \u001b[1;33m\u001b[0m\u001b[0m\n\u001b[0;32m   1880\u001b[0m         \u001b[0mindexer\u001b[0m \u001b[1;33m=\u001b[0m \u001b[0mself\u001b[0m\u001b[1;33m.\u001b[0m\u001b[0mget_indexer\u001b[0m\u001b[1;33m(\u001b[0m\u001b[1;33m[\u001b[0m\u001b[0mkey\u001b[0m\u001b[1;33m]\u001b[0m\u001b[1;33m,\u001b[0m \u001b[0mmethod\u001b[0m\u001b[1;33m=\u001b[0m\u001b[0mmethod\u001b[0m\u001b[1;33m,\u001b[0m \u001b[0mtolerance\u001b[0m\u001b[1;33m=\u001b[0m\u001b[0mtolerance\u001b[0m\u001b[1;33m)\u001b[0m\u001b[1;33m\u001b[0m\u001b[0m\n",
      "\u001b[1;32mpandas\\index.pyx\u001b[0m in \u001b[0;36mpandas.index.IndexEngine.get_loc (pandas\\index.c:4027)\u001b[1;34m()\u001b[0m\n",
      "\u001b[1;32mpandas\\index.pyx\u001b[0m in \u001b[0;36mpandas.index.IndexEngine.get_loc (pandas\\index.c:3891)\u001b[1;34m()\u001b[0m\n",
      "\u001b[1;32mpandas\\hashtable.pyx\u001b[0m in \u001b[0;36mpandas.hashtable.PyObjectHashTable.get_item (pandas\\hashtable.c:12408)\u001b[1;34m()\u001b[0m\n",
      "\u001b[1;32mpandas\\hashtable.pyx\u001b[0m in \u001b[0;36mpandas.hashtable.PyObjectHashTable.get_item (pandas\\hashtable.c:12359)\u001b[1;34m()\u001b[0m\n",
      "\u001b[1;31mKeyError\u001b[0m: 'appID'"
     ]
    }
   ],
   "source": [
    "test=pd.merge(test,ad,on='creativeID')\n",
    "test=pd.merge(test,user,on='userID')\n",
    "test=pd.merge(test,position,on='positionID')\n",
    "test=pd.merge(test,app_categories,on='appID')\n",
    "test['day']=test.clickTime.values/10000\n",
    "test['hour']=test.clickTime.values/100%100\n",
    "del test['label']"
   ]
  },
  {
   "cell_type": "code",
   "execution_count": 11,
   "metadata": {
    "collapsed": true
   },
   "outputs": [],
   "source": [
    "test_results=pd.read_csv(\"test.csv\")\n",
    "del test_results['label']"
   ]
  },
  {
   "cell_type": "code",
   "execution_count": 120,
   "metadata": {
    "collapsed": false
   },
   "outputs": [],
   "source": [
    "import math\n",
    "def loss(label,pro):\n",
    "    label1=label.values\n",
    "    pro1=pro\n",
    "    prob1=pro.apply(lambda x: math.log(x)).values\n",
    "    prob2=pro1.apply(lambda x:math.log(1-x)).values\n",
    "    Loss=-np.mean((label1*pro1)+(1-label1)*prob2)\n",
    "    return Loss"
   ]
  },
  {
   "cell_type": "code",
   "execution_count": 49,
   "metadata": {
    "collapsed": false
   },
   "outputs": [
    {
     "data": {
      "text/plain": [
       "<matplotlib.text.Text at 0x6bd730b8>"
      ]
     },
     "execution_count": 49,
     "metadata": {},
     "output_type": "execute_result"
    },
    {
     "data": {
      "image/png": "[encoded data removed]",
      "text/plain": [
       "<matplotlib.figure.Figure at 0x6bd676a0>"
      ]
     },
     "metadata": {},
     "output_type": "display_data"
    }
   ],
   "source": []
  },
  {
   "cell_type": "markdown",
   "metadata": {},
   "source": [
    "\n",
    " 线上\n",
    " results = test_results.merge(dtest[['instanceID','predprob']], on='instanceID')"
   ]
  },
  {
   "cell_type": "code",
   "execution_count": 43,
   "metadata": {
    "collapsed": true
   },
   "outputs": [],
   "source": [
    "target='label'\n",
    "day='day'\n",
    "id='instanceID'"
   ]
  },
  {
   "cell_type": "code",
   "execution_count": null,
   "metadata": {
    "collapsed": true
   },
   "outputs": [],
   "source": []
  },
  {
   "cell_type": "code",
   "execution_count": null,
   "metadata": {
    "collapsed": true
   },
   "outputs": [],
   "source": []
  },
  {
   "cell_type": "code",
   "execution_count": 140,
   "metadata": {
    "collapsed": true
   },
   "outputs": [],
   "source": [
    "ft=np.logical_and(train.day.values>=17,train.day.values<=24)\n",
    "train_X = train.ix[ft, :]\n",
    "np.random.seed(999)\n",
    "r1 = np.random.uniform(0, 1, train_X.shape[0])\n",
    "train_X = train_X.ix[r1 < 0.1, :]"
   ]
  },
  {
   "cell_type": "code",
   "execution_count": 141,
   "metadata": {
    "collapsed": false
   },
   "outputs": [
    {
     "data": {
      "text/plain": [
       "<matplotlib.text.Text at 0x27a2ae10>"
      ]
     },
     "execution_count": 141,
     "metadata": {},
     "output_type": "execute_result"
    },
    {
     "data": {
      "image/png": "[encoded data removed]",
      "text/plain": [
       "<matplotlib.figure.Figure at 0x5a926f28>"
      ]
     },
     "metadata": {},
     "output_type": "display_data"
    }
   ],
   "source": [
    "predictors = [x for x in train_X.columns if x not in [target,day,'conversionTime','clickTime','userID','appPlatform','creativeID'\n",
    "                                                     ,'creativeID_haveBaby','sitesetID_positionType','positionType','creativeID_gender','haveBaby'\n",
    "                                                     ,'gender']]\n",
    "xgb1 = XGBClassifier(\n",
    "        learning_rate =0.1,\n",
    "        n_estimators=1000,\n",
    "        max_depth=5,\n",
    "        min_child_weight=1,\n",
    "        gamma=0,\n",
    "        subsample=0.8,\n",
    "        colsample_bytree=0.8,\n",
    "        objective= 'binary:logistic',\n",
    "        nthread=4,\n",
    "        scale_pos_weight=1,\n",
    "        seed=27)\n",
    "\n",
    "alg=xgb1\n",
    "dtrain=train_X\n",
    "cv_folds=5\n",
    "early_stopping_rounds=50\n",
    "xgb_param = alg.get_xgb_params()\n",
    "xgtrain = xgb.DMatrix(dtrain[predictors].values, label=dtrain[target].values)\n",
    "cvresult = xgb.cv(xgb_param, xgtrain, num_boost_round=alg.get_params()['n_estimators'], nfold=cv_folds,\n",
    "            metrics='logloss', early_stopping_rounds=early_stopping_rounds)\n",
    "alg.set_params(n_estimators=cvresult.shape[0])\n",
    "    \n",
    "    #Fit the algorithm on the data\n",
    "alg.fit(dtrain[predictors], dtrain['label'],eval_metric='logloss')\n",
    "         \n",
    "feat_imp = pd.Series(alg.booster().get_fscore()).sort_values(ascending=False)\n",
    "feat_imp.plot(kind='barh', title='Feature Importances')\n",
    "plt.ylabel('Feature Importance Score')"
   ]
  },
  {
   "cell_type": "code",
   "execution_count": 142,
   "metadata": {
    "collapsed": false
   },
   "outputs": [
    {
     "name": "stderr",
     "output_type": "stream",
     "text": [
      "F:\\Anaconda2\\lib\\site-packages\\ipykernel\\__main__.py:2: SettingWithCopyWarning: \n",
      "A value is trying to be set on a copy of a slice from a DataFrame.\n",
      "Try using .loc[row_indexer,col_indexer] = value instead\n",
      "\n",
      "See the caveats in the documentation: http://pandas.pydata.org/pandas-docs/stable/indexing.html#indexing-view-versus-copy\n",
      "  from ipykernel import kernelapp as app\n"
     ]
    }
   ],
   "source": [
    "dtest=train[train.day.values==25]\n",
    "dtest['predprob'] = alg.predict_proba(dtest[predictors])[:,1]\n",
    "\n",
    "loss(dtest['label'],dtest['predprob'])"
   ]
  },
  {
   "cell_type": "code",
   "execution_count": 136,
   "metadata": {
    "collapsed": false
   },
   "outputs": [
    {
     "data": {
      "text/plain": [
       "0.023381596097913845"
      ]
     },
     "execution_count": 136,
     "metadata": {},
     "output_type": "execute_result"
    }
   ],
   "source": [
    "loss(dtest['label'],dtest['predprob'])"
   ]
  },
  {
   "cell_type": "code",
   "execution_count": 139,
   "metadata": {
    "collapsed": false
   },
   "outputs": [
    {
     "data": {
      "text/plain": [
       "0.023271018811995146"
      ]
     },
     "execution_count": 139,
     "metadata": {},
     "output_type": "execute_result"
    }
   ],
   "source": [
    "loss(dtest['label'],dtest['predprob'])"
   ]
  },
  {
   "cell_type": "code",
   "execution_count": 133,
   "metadata": {
    "collapsed": false
   },
   "outputs": [
    {
     "data": {
      "text/plain": [
       "0.023383257231899646"
      ]
     },
     "execution_count": 133,
     "metadata": {},
     "output_type": "execute_result"
    }
   ],
   "source": [
    "loss(dtest['label'],dtest['predprob'])"
   ]
  },
  {
   "cell_type": "code",
   "execution_count": null,
   "metadata": {
    "collapsed": true
   },
   "outputs": [],
   "source": []
  },
  {
   "cell_type": "code",
   "execution_count": null,
   "metadata": {
    "collapsed": true
   },
   "outputs": [],
   "source": [
    "feat_imp = pd.Series(alg.booster().get_fscore()).sort_values(ascending=False)\n",
    "feat_imp.plot(kind='barh', title='Feature Importances')\n",
    "plt.ylabel('Feature Importance Score')"
   ]
  },
  {
   "cell_type": "code",
   "execution_count": null,
   "metadata": {
    "collapsed": true
   },
   "outputs": [],
   "source": [
    "modelfit(xgb1, train_X, test_X, predictors)"
   ]
  },
  {
   "cell_type": "code",
   "execution_count": 56,
   "metadata": {
    "collapsed": false
   },
   "outputs": [
    {
     "data": {
      "text/plain": [
       "([mean: 0.48031, std: 0.15007, params: {'max_depth': 3, 'min_child_weight': 1},\n",
       "  mean: 0.48739, std: 0.14617, params: {'max_depth': 3, 'min_child_weight': 3},\n",
       "  mean: 0.47545, std: 0.15254, params: {'max_depth': 3, 'min_child_weight': 5},\n",
       "  mean: 0.47915, std: 0.15291, params: {'max_depth': 5, 'min_child_weight': 1},\n",
       "  mean: 0.48110, std: 0.15103, params: {'max_depth': 5, 'min_child_weight': 3},\n",
       "  mean: 0.47370, std: 0.15624, params: {'max_depth': 5, 'min_child_weight': 5},\n",
       "  mean: 0.47473, std: 0.15199, params: {'max_depth': 7, 'min_child_weight': 1},\n",
       "  mean: 0.47827, std: 0.15100, params: {'max_depth': 7, 'min_child_weight': 3},\n",
       "  mean: 0.47371, std: 0.15439, params: {'max_depth': 7, 'min_child_weight': 5},\n",
       "  mean: 0.47019, std: 0.15180, params: {'max_depth': 9, 'min_child_weight': 1},\n",
       "  mean: 0.46955, std: 0.15169, params: {'max_depth': 9, 'min_child_weight': 3},\n",
       "  mean: 0.46830, std: 0.15557, params: {'max_depth': 9, 'min_child_weight': 5}],\n",
       " {'max_depth': 3, 'min_child_weight': 3},\n",
       " 0.48739198537608563)"
      ]
     },
     "execution_count": 56,
     "metadata": {},
     "output_type": "execute_result"
    }
   ],
   "source": [
    "param_test1 = {\n",
    "    'max_depth':range(3,10,2),\n",
    "    'min_child_weight':range(1,6,2)\n",
    "}\n",
    "gsearch1 = GridSearchCV(estimator = XGBClassifier( learning_rate =0.1, n_estimators=140, max_depth=5,\n",
    "                                        min_child_weight=1, gamma=0, subsample=0.8, colsample_bytree=0.8,\n",
    "                                        objective= 'binary:logistic', nthread=4, scale_pos_weight=1, seed=27), \n",
    "                       param_grid = param_test1, scoring='roc_auc',n_jobs=4,iid=False, cv=5)\n",
    "gsearch1.fit(train_X[predictors],train_X[target])\n",
    "gsearch1.grid_scores_, gsearch1.best_params_, gsearch1.best_score_"
   ]
  },
  {
   "cell_type": "code",
   "execution_count": 57,
   "metadata": {
    "collapsed": false
   },
   "outputs": [
    {
     "ename": "NameError",
     "evalue": "name 'OneHotEncoder' is not defined",
     "output_type": "error",
     "traceback": [
      "\u001b[1;31m---------------------------------------------------------------------------\u001b[0m",
      "\u001b[1;31mNameError\u001b[0m                                 Traceback (most recent call last)",
      "\u001b[1;32m<ipython-input-57-542f52c2e155>\u001b[0m in \u001b[0;36m<module>\u001b[1;34m()\u001b[0m\n\u001b[1;32m----> 1\u001b[1;33m \u001b[0mgrd_enc\u001b[0m \u001b[1;33m=\u001b[0m \u001b[0mOneHotEncoder\u001b[0m\u001b[1;33m(\u001b[0m\u001b[1;33m)\u001b[0m\u001b[1;33m\u001b[0m\u001b[0m\n\u001b[0m",
      "\u001b[1;31mNameError\u001b[0m: name 'OneHotEncoder' is not defined"
     ]
    }
   ],
   "source": [
    "grd_enc = OneHotEncoder()"
   ]
  },
  {
   "cell_type": "code",
   "execution_count": 58,
   "metadata": {
    "collapsed": true
   },
   "outputs": [],
   "source": [
    "from sklearn.preprocessing import OneHotEncoder\n",
    "from sklearn.linear_model import LogisticRegression\n"
   ]
  },
  {
   "cell_type": "code",
   "execution_count": 59,
   "metadata": {
    "collapsed": true
   },
   "outputs": [],
   "source": [
    "grd_enc = OneHotEncoder()"
   ]
  },
  {
   "cell_type": "code",
   "execution_count": 60,
   "metadata": {
    "collapsed": true
   },
   "outputs": [],
   "source": [
    "grd_lm = LogisticRegression()"
   ]
  },
  {
   "cell_type": "code",
   "execution_count": null,
   "metadata": {
    "collapsed": true
   },
   "outputs": [],
   "source": [
    "grd_enc = OneHotEncoder()\n",
    "# 调用LR分类模型。\n",
    "grd_lm = LogisticRegression()\n",
    "\n",
    "\n",
    "'''使用X_train训练GBDT模型，后面用此模型构造特征'''\n",
    "grd.fit(X_train, y_train)\n",
    "\n",
    "# fit one-hot编码器\n",
    "grd_enc.fit(alg.apply(dtrain[predictors])[:, :, 0])\n",
    "\n",
    "''' \n",
    "使用训练好的GBDT模型构建特征，然后将特征经过one-hot编码作为新的特征输入到LR模型训练。\n",
    "'''\n",
    "grd_lm.fit(grd_enc.transform(grd.apply(X_train_lr)[:, :, 0]), y_train_lr)\n",
    "# 用训练好的LR模型多X_test做预测\n",
    "y_pred_grd_lm = grd_lm.predict_proba(grd_enc.transform(grd.apply(X_test)[:, :, 0]))[:, 1]\n",
    "# 根据预测结果输出\n",
    "fpr_grd_lm, tpr_grd_lm, _ = roc_curve(y_test, y_pred_grd_lm)"
   ]
  },
  {
   "cell_type": "code",
   "execution_count": null,
   "metadata": {
    "collapsed": true
   },
   "outputs": [],
   "source": []
  },
  {
   "cell_type": "code",
   "execution_count": null,
   "metadata": {
    "collapsed": true
   },
   "outputs": [],
   "source": []
  },
  {
   "cell_type": "code",
   "execution_count": null,
   "metadata": {
    "collapsed": true
   },
   "outputs": [],
   "source": []
  },
  {
   "cell_type": "code",
   "execution_count": null,
   "metadata": {
    "collapsed": true
   },
   "outputs": [],
   "source": []
  },
  {
   "cell_type": "code",
   "execution_count": null,
   "metadata": {
    "collapsed": true
   },
   "outputs": [],
   "source": []
  },
  {
   "cell_type": "code",
   "execution_count": null,
   "metadata": {
    "collapsed": true
   },
   "outputs": [],
   "source": []
  },
  {
   "cell_type": "code",
   "execution_count": 15,
   "metadata": {
    "collapsed": false
   },
   "outputs": [],
   "source": [
    "results = test_results.merge(test[['instanceID','predprob']], on='instanceID')"
   ]
  },
  {
   "cell_type": "code",
   "execution_count": null,
   "metadata": {
    "collapsed": true
   },
   "outputs": [],
   "source": []
  },
  {
   "cell_type": "code",
   "execution_count": null,
   "metadata": {
    "collapsed": true
   },
   "outputs": [],
   "source": []
  },
  {
   "cell_type": "code",
   "execution_count": null,
   "metadata": {
    "collapsed": true
   },
   "outputs": [],
   "source": []
  },
  {
   "cell_type": "code",
   "execution_count": null,
   "metadata": {
    "collapsed": true
   },
   "outputs": [],
   "source": []
  },
  {
   "cell_type": "code",
   "execution_count": null,
   "metadata": {
    "collapsed": true
   },
   "outputs": [],
   "source": []
  },
  {
   "cell_type": "code",
   "execution_count": 16,
   "metadata": {
    "collapsed": false
   },
   "outputs": [
    {
     "data": {
      "text/html": [
       "<div>\n",
       "<table border=\"1\" class=\"dataframe\">\n",
       "  <thead>\n",
       "    <tr style=\"text-align: right;\">\n",
       "      <th></th>\n",
       "      <th>instanceID</th>\n",
       "      <th>label</th>\n",
       "      <th>clickTime</th>\n",
       "      <th>creativeID</th>\n",
       "      <th>userID</th>\n",
       "      <th>positionID</th>\n",
       "      <th>connectionType</th>\n",
       "      <th>telecomsOperator</th>\n",
       "      <th>predprob</th>\n",
       "    </tr>\n",
       "  </thead>\n",
       "  <tbody>\n",
       "    <tr>\n",
       "      <th>0</th>\n",
       "      <td>1</td>\n",
       "      <td>-1</td>\n",
       "      <td>310000</td>\n",
       "      <td>3745</td>\n",
       "      <td>1164848</td>\n",
       "      <td>3451</td>\n",
       "      <td>1</td>\n",
       "      <td>3</td>\n",
       "      <td>0.004124</td>\n",
       "    </tr>\n",
       "    <tr>\n",
       "      <th>1</th>\n",
       "      <td>2</td>\n",
       "      <td>-1</td>\n",
       "      <td>310000</td>\n",
       "      <td>2284</td>\n",
       "      <td>2127247</td>\n",
       "      <td>1613</td>\n",
       "      <td>1</td>\n",
       "      <td>3</td>\n",
       "      <td>0.001383</td>\n",
       "    </tr>\n",
       "    <tr>\n",
       "      <th>2</th>\n",
       "      <td>3</td>\n",
       "      <td>-1</td>\n",
       "      <td>310000</td>\n",
       "      <td>1456</td>\n",
       "      <td>2769125</td>\n",
       "      <td>5510</td>\n",
       "      <td>2</td>\n",
       "      <td>1</td>\n",
       "      <td>0.004020</td>\n",
       "    </tr>\n",
       "    <tr>\n",
       "      <th>3</th>\n",
       "      <td>4</td>\n",
       "      <td>-1</td>\n",
       "      <td>310000</td>\n",
       "      <td>4565</td>\n",
       "      <td>9762</td>\n",
       "      <td>4113</td>\n",
       "      <td>2</td>\n",
       "      <td>3</td>\n",
       "      <td>0.008154</td>\n",
       "    </tr>\n",
       "    <tr>\n",
       "      <th>4</th>\n",
       "      <td>5</td>\n",
       "      <td>-1</td>\n",
       "      <td>310000</td>\n",
       "      <td>49</td>\n",
       "      <td>2513636</td>\n",
       "      <td>3615</td>\n",
       "      <td>1</td>\n",
       "      <td>3</td>\n",
       "      <td>0.000459</td>\n",
       "    </tr>\n",
       "    <tr>\n",
       "      <th>5</th>\n",
       "      <td>6</td>\n",
       "      <td>-1</td>\n",
       "      <td>310000</td>\n",
       "      <td>3824</td>\n",
       "      <td>488035</td>\n",
       "      <td>3821</td>\n",
       "      <td>1</td>\n",
       "      <td>1</td>\n",
       "      <td>0.044990</td>\n",
       "    </tr>\n",
       "    <tr>\n",
       "      <th>6</th>\n",
       "      <td>7</td>\n",
       "      <td>-1</td>\n",
       "      <td>310000</td>\n",
       "      <td>863</td>\n",
       "      <td>225561</td>\n",
       "      <td>4188</td>\n",
       "      <td>1</td>\n",
       "      <td>3</td>\n",
       "      <td>0.028224</td>\n",
       "    </tr>\n",
       "    <tr>\n",
       "      <th>7</th>\n",
       "      <td>8</td>\n",
       "      <td>-1</td>\n",
       "      <td>310000</td>\n",
       "      <td>4469</td>\n",
       "      <td>1144620</td>\n",
       "      <td>4113</td>\n",
       "      <td>1</td>\n",
       "      <td>1</td>\n",
       "      <td>0.038953</td>\n",
       "    </tr>\n",
       "    <tr>\n",
       "      <th>8</th>\n",
       "      <td>9</td>\n",
       "      <td>-1</td>\n",
       "      <td>310000</td>\n",
       "      <td>3745</td>\n",
       "      <td>1113275</td>\n",
       "      <td>3347</td>\n",
       "      <td>1</td>\n",
       "      <td>2</td>\n",
       "      <td>0.003076</td>\n",
       "    </tr>\n",
       "    <tr>\n",
       "      <th>9</th>\n",
       "      <td>10</td>\n",
       "      <td>-1</td>\n",
       "      <td>310000</td>\n",
       "      <td>4565</td>\n",
       "      <td>1361729</td>\n",
       "      <td>2426</td>\n",
       "      <td>2</td>\n",
       "      <td>2</td>\n",
       "      <td>0.008091</td>\n",
       "    </tr>\n",
       "    <tr>\n",
       "      <th>10</th>\n",
       "      <td>11</td>\n",
       "      <td>-1</td>\n",
       "      <td>310000</td>\n",
       "      <td>4250</td>\n",
       "      <td>1749379</td>\n",
       "      <td>4292</td>\n",
       "      <td>1</td>\n",
       "      <td>3</td>\n",
       "      <td>0.031860</td>\n",
       "    </tr>\n",
       "    <tr>\n",
       "      <th>11</th>\n",
       "      <td>12</td>\n",
       "      <td>-1</td>\n",
       "      <td>310000</td>\n",
       "      <td>1456</td>\n",
       "      <td>840178</td>\n",
       "      <td>6086</td>\n",
       "      <td>1</td>\n",
       "      <td>1</td>\n",
       "      <td>0.029257</td>\n",
       "    </tr>\n",
       "    <tr>\n",
       "      <th>12</th>\n",
       "      <td>13</td>\n",
       "      <td>-1</td>\n",
       "      <td>310000</td>\n",
       "      <td>51</td>\n",
       "      <td>1945411</td>\n",
       "      <td>977</td>\n",
       "      <td>4</td>\n",
       "      <td>2</td>\n",
       "      <td>0.004217</td>\n",
       "    </tr>\n",
       "    <tr>\n",
       "      <th>13</th>\n",
       "      <td>14</td>\n",
       "      <td>-1</td>\n",
       "      <td>310000</td>\n",
       "      <td>4250</td>\n",
       "      <td>1789615</td>\n",
       "      <td>5875</td>\n",
       "      <td>1</td>\n",
       "      <td>2</td>\n",
       "      <td>0.015997</td>\n",
       "    </tr>\n",
       "    <tr>\n",
       "      <th>14</th>\n",
       "      <td>15</td>\n",
       "      <td>-1</td>\n",
       "      <td>310000</td>\n",
       "      <td>5588</td>\n",
       "      <td>340733</td>\n",
       "      <td>2150</td>\n",
       "      <td>1</td>\n",
       "      <td>1</td>\n",
       "      <td>0.018920</td>\n",
       "    </tr>\n",
       "    <tr>\n",
       "      <th>15</th>\n",
       "      <td>16</td>\n",
       "      <td>-1</td>\n",
       "      <td>310000</td>\n",
       "      <td>6001</td>\n",
       "      <td>1884781</td>\n",
       "      <td>1385</td>\n",
       "      <td>1</td>\n",
       "      <td>3</td>\n",
       "      <td>0.002879</td>\n",
       "    </tr>\n",
       "    <tr>\n",
       "      <th>16</th>\n",
       "      <td>17</td>\n",
       "      <td>-1</td>\n",
       "      <td>310000</td>\n",
       "      <td>4432</td>\n",
       "      <td>596931</td>\n",
       "      <td>6667</td>\n",
       "      <td>1</td>\n",
       "      <td>3</td>\n",
       "      <td>0.020665</td>\n",
       "    </tr>\n",
       "    <tr>\n",
       "      <th>17</th>\n",
       "      <td>18</td>\n",
       "      <td>-1</td>\n",
       "      <td>310000</td>\n",
       "      <td>4967</td>\n",
       "      <td>931181</td>\n",
       "      <td>6539</td>\n",
       "      <td>1</td>\n",
       "      <td>1</td>\n",
       "      <td>0.001875</td>\n",
       "    </tr>\n",
       "    <tr>\n",
       "      <th>18</th>\n",
       "      <td>19</td>\n",
       "      <td>-1</td>\n",
       "      <td>310000</td>\n",
       "      <td>1704</td>\n",
       "      <td>2657412</td>\n",
       "      <td>2695</td>\n",
       "      <td>1</td>\n",
       "      <td>0</td>\n",
       "      <td>0.062000</td>\n",
       "    </tr>\n",
       "    <tr>\n",
       "      <th>19</th>\n",
       "      <td>20</td>\n",
       "      <td>-1</td>\n",
       "      <td>310000</td>\n",
       "      <td>4565</td>\n",
       "      <td>1251533</td>\n",
       "      <td>7135</td>\n",
       "      <td>1</td>\n",
       "      <td>1</td>\n",
       "      <td>0.015653</td>\n",
       "    </tr>\n",
       "    <tr>\n",
       "      <th>20</th>\n",
       "      <td>21</td>\n",
       "      <td>-1</td>\n",
       "      <td>310000</td>\n",
       "      <td>3690</td>\n",
       "      <td>1199429</td>\n",
       "      <td>6932</td>\n",
       "      <td>1</td>\n",
       "      <td>1</td>\n",
       "      <td>0.010524</td>\n",
       "    </tr>\n",
       "    <tr>\n",
       "      <th>21</th>\n",
       "      <td>22</td>\n",
       "      <td>-1</td>\n",
       "      <td>310000</td>\n",
       "      <td>5527</td>\n",
       "      <td>2455848</td>\n",
       "      <td>3228</td>\n",
       "      <td>1</td>\n",
       "      <td>3</td>\n",
       "      <td>0.099999</td>\n",
       "    </tr>\n",
       "    <tr>\n",
       "      <th>22</th>\n",
       "      <td>23</td>\n",
       "      <td>-1</td>\n",
       "      <td>310000</td>\n",
       "      <td>4565</td>\n",
       "      <td>1956857</td>\n",
       "      <td>5971</td>\n",
       "      <td>1</td>\n",
       "      <td>1</td>\n",
       "      <td>0.041246</td>\n",
       "    </tr>\n",
       "    <tr>\n",
       "      <th>23</th>\n",
       "      <td>24</td>\n",
       "      <td>-1</td>\n",
       "      <td>310000</td>\n",
       "      <td>1831</td>\n",
       "      <td>1191158</td>\n",
       "      <td>2461</td>\n",
       "      <td>1</td>\n",
       "      <td>3</td>\n",
       "      <td>0.058741</td>\n",
       "    </tr>\n",
       "    <tr>\n",
       "      <th>24</th>\n",
       "      <td>25</td>\n",
       "      <td>-1</td>\n",
       "      <td>310000</td>\n",
       "      <td>6190</td>\n",
       "      <td>2272417</td>\n",
       "      <td>1465</td>\n",
       "      <td>1</td>\n",
       "      <td>1</td>\n",
       "      <td>0.047710</td>\n",
       "    </tr>\n",
       "    <tr>\n",
       "      <th>25</th>\n",
       "      <td>26</td>\n",
       "      <td>-1</td>\n",
       "      <td>310000</td>\n",
       "      <td>2189</td>\n",
       "      <td>390752</td>\n",
       "      <td>3789</td>\n",
       "      <td>1</td>\n",
       "      <td>1</td>\n",
       "      <td>0.043926</td>\n",
       "    </tr>\n",
       "    <tr>\n",
       "      <th>26</th>\n",
       "      <td>27</td>\n",
       "      <td>-1</td>\n",
       "      <td>310000</td>\n",
       "      <td>594</td>\n",
       "      <td>1399698</td>\n",
       "      <td>6161</td>\n",
       "      <td>1</td>\n",
       "      <td>2</td>\n",
       "      <td>0.000510</td>\n",
       "    </tr>\n",
       "    <tr>\n",
       "      <th>27</th>\n",
       "      <td>28</td>\n",
       "      <td>-1</td>\n",
       "      <td>310000</td>\n",
       "      <td>4250</td>\n",
       "      <td>2297337</td>\n",
       "      <td>6193</td>\n",
       "      <td>2</td>\n",
       "      <td>1</td>\n",
       "      <td>0.002050</td>\n",
       "    </tr>\n",
       "    <tr>\n",
       "      <th>28</th>\n",
       "      <td>29</td>\n",
       "      <td>-1</td>\n",
       "      <td>310000</td>\n",
       "      <td>1092</td>\n",
       "      <td>1423913</td>\n",
       "      <td>5510</td>\n",
       "      <td>1</td>\n",
       "      <td>3</td>\n",
       "      <td>0.010628</td>\n",
       "    </tr>\n",
       "    <tr>\n",
       "      <th>29</th>\n",
       "      <td>30</td>\n",
       "      <td>-1</td>\n",
       "      <td>310000</td>\n",
       "      <td>4250</td>\n",
       "      <td>1206944</td>\n",
       "      <td>2426</td>\n",
       "      <td>2</td>\n",
       "      <td>1</td>\n",
       "      <td>0.003253</td>\n",
       "    </tr>\n",
       "    <tr>\n",
       "      <th>...</th>\n",
       "      <td>...</td>\n",
       "      <td>...</td>\n",
       "      <td>...</td>\n",
       "      <td>...</td>\n",
       "      <td>...</td>\n",
       "      <td>...</td>\n",
       "      <td>...</td>\n",
       "      <td>...</td>\n",
       "      <td>...</td>\n",
       "    </tr>\n",
       "    <tr>\n",
       "      <th>338459</th>\n",
       "      <td>338460</td>\n",
       "      <td>-1</td>\n",
       "      <td>312359</td>\n",
       "      <td>2389</td>\n",
       "      <td>1060910</td>\n",
       "      <td>1625</td>\n",
       "      <td>1</td>\n",
       "      <td>2</td>\n",
       "      <td>0.021878</td>\n",
       "    </tr>\n",
       "    <tr>\n",
       "      <th>338460</th>\n",
       "      <td>338461</td>\n",
       "      <td>-1</td>\n",
       "      <td>312359</td>\n",
       "      <td>4565</td>\n",
       "      <td>569989</td>\n",
       "      <td>4292</td>\n",
       "      <td>1</td>\n",
       "      <td>1</td>\n",
       "      <td>0.013891</td>\n",
       "    </tr>\n",
       "    <tr>\n",
       "      <th>338461</th>\n",
       "      <td>338462</td>\n",
       "      <td>-1</td>\n",
       "      <td>312359</td>\n",
       "      <td>863</td>\n",
       "      <td>478252</td>\n",
       "      <td>5030</td>\n",
       "      <td>1</td>\n",
       "      <td>3</td>\n",
       "      <td>0.027540</td>\n",
       "    </tr>\n",
       "    <tr>\n",
       "      <th>338462</th>\n",
       "      <td>338463</td>\n",
       "      <td>-1</td>\n",
       "      <td>312359</td>\n",
       "      <td>3871</td>\n",
       "      <td>2493985</td>\n",
       "      <td>2044</td>\n",
       "      <td>1</td>\n",
       "      <td>1</td>\n",
       "      <td>0.020629</td>\n",
       "    </tr>\n",
       "    <tr>\n",
       "      <th>338463</th>\n",
       "      <td>338464</td>\n",
       "      <td>-1</td>\n",
       "      <td>312359</td>\n",
       "      <td>2474</td>\n",
       "      <td>1712009</td>\n",
       "      <td>4818</td>\n",
       "      <td>1</td>\n",
       "      <td>2</td>\n",
       "      <td>0.001445</td>\n",
       "    </tr>\n",
       "    <tr>\n",
       "      <th>338464</th>\n",
       "      <td>338465</td>\n",
       "      <td>-1</td>\n",
       "      <td>312359</td>\n",
       "      <td>4257</td>\n",
       "      <td>1422501</td>\n",
       "      <td>2150</td>\n",
       "      <td>1</td>\n",
       "      <td>1</td>\n",
       "      <td>0.026204</td>\n",
       "    </tr>\n",
       "    <tr>\n",
       "      <th>338465</th>\n",
       "      <td>338466</td>\n",
       "      <td>-1</td>\n",
       "      <td>312359</td>\n",
       "      <td>3690</td>\n",
       "      <td>1238716</td>\n",
       "      <td>522</td>\n",
       "      <td>1</td>\n",
       "      <td>3</td>\n",
       "      <td>0.030265</td>\n",
       "    </tr>\n",
       "    <tr>\n",
       "      <th>338466</th>\n",
       "      <td>338467</td>\n",
       "      <td>-1</td>\n",
       "      <td>312359</td>\n",
       "      <td>5187</td>\n",
       "      <td>2323692</td>\n",
       "      <td>5510</td>\n",
       "      <td>1</td>\n",
       "      <td>1</td>\n",
       "      <td>0.021788</td>\n",
       "    </tr>\n",
       "    <tr>\n",
       "      <th>338467</th>\n",
       "      <td>338468</td>\n",
       "      <td>-1</td>\n",
       "      <td>312359</td>\n",
       "      <td>3192</td>\n",
       "      <td>1020405</td>\n",
       "      <td>3322</td>\n",
       "      <td>1</td>\n",
       "      <td>2</td>\n",
       "      <td>0.007649</td>\n",
       "    </tr>\n",
       "    <tr>\n",
       "      <th>338468</th>\n",
       "      <td>338469</td>\n",
       "      <td>-1</td>\n",
       "      <td>312359</td>\n",
       "      <td>4432</td>\n",
       "      <td>364120</td>\n",
       "      <td>4455</td>\n",
       "      <td>1</td>\n",
       "      <td>3</td>\n",
       "      <td>0.018444</td>\n",
       "    </tr>\n",
       "    <tr>\n",
       "      <th>338469</th>\n",
       "      <td>338470</td>\n",
       "      <td>-1</td>\n",
       "      <td>312359</td>\n",
       "      <td>863</td>\n",
       "      <td>666507</td>\n",
       "      <td>5013</td>\n",
       "      <td>1</td>\n",
       "      <td>1</td>\n",
       "      <td>0.087917</td>\n",
       "    </tr>\n",
       "    <tr>\n",
       "      <th>338470</th>\n",
       "      <td>338471</td>\n",
       "      <td>-1</td>\n",
       "      <td>312359</td>\n",
       "      <td>5497</td>\n",
       "      <td>1163363</td>\n",
       "      <td>2823</td>\n",
       "      <td>1</td>\n",
       "      <td>3</td>\n",
       "      <td>0.017082</td>\n",
       "    </tr>\n",
       "    <tr>\n",
       "      <th>338471</th>\n",
       "      <td>338472</td>\n",
       "      <td>-1</td>\n",
       "      <td>312359</td>\n",
       "      <td>4785</td>\n",
       "      <td>2160374</td>\n",
       "      <td>3322</td>\n",
       "      <td>1</td>\n",
       "      <td>2</td>\n",
       "      <td>0.011951</td>\n",
       "    </tr>\n",
       "    <tr>\n",
       "      <th>338472</th>\n",
       "      <td>338473</td>\n",
       "      <td>-1</td>\n",
       "      <td>312359</td>\n",
       "      <td>1465</td>\n",
       "      <td>2452121</td>\n",
       "      <td>7619</td>\n",
       "      <td>1</td>\n",
       "      <td>2</td>\n",
       "      <td>0.021462</td>\n",
       "    </tr>\n",
       "    <tr>\n",
       "      <th>338473</th>\n",
       "      <td>338474</td>\n",
       "      <td>-1</td>\n",
       "      <td>312359</td>\n",
       "      <td>985</td>\n",
       "      <td>1257057</td>\n",
       "      <td>4867</td>\n",
       "      <td>1</td>\n",
       "      <td>1</td>\n",
       "      <td>0.004614</td>\n",
       "    </tr>\n",
       "    <tr>\n",
       "      <th>338474</th>\n",
       "      <td>338475</td>\n",
       "      <td>-1</td>\n",
       "      <td>312359</td>\n",
       "      <td>1456</td>\n",
       "      <td>106972</td>\n",
       "      <td>4657</td>\n",
       "      <td>1</td>\n",
       "      <td>1</td>\n",
       "      <td>0.061173</td>\n",
       "    </tr>\n",
       "    <tr>\n",
       "      <th>338475</th>\n",
       "      <td>338476</td>\n",
       "      <td>-1</td>\n",
       "      <td>312359</td>\n",
       "      <td>750</td>\n",
       "      <td>1893932</td>\n",
       "      <td>3322</td>\n",
       "      <td>1</td>\n",
       "      <td>2</td>\n",
       "      <td>0.018566</td>\n",
       "    </tr>\n",
       "    <tr>\n",
       "      <th>338476</th>\n",
       "      <td>338477</td>\n",
       "      <td>-1</td>\n",
       "      <td>312359</td>\n",
       "      <td>5258</td>\n",
       "      <td>1670094</td>\n",
       "      <td>3347</td>\n",
       "      <td>2</td>\n",
       "      <td>3</td>\n",
       "      <td>0.005384</td>\n",
       "    </tr>\n",
       "    <tr>\n",
       "      <th>338477</th>\n",
       "      <td>338478</td>\n",
       "      <td>-1</td>\n",
       "      <td>312359</td>\n",
       "      <td>3869</td>\n",
       "      <td>399524</td>\n",
       "      <td>3789</td>\n",
       "      <td>1</td>\n",
       "      <td>1</td>\n",
       "      <td>0.012361</td>\n",
       "    </tr>\n",
       "    <tr>\n",
       "      <th>338478</th>\n",
       "      <td>338479</td>\n",
       "      <td>-1</td>\n",
       "      <td>312359</td>\n",
       "      <td>4077</td>\n",
       "      <td>2611278</td>\n",
       "      <td>2579</td>\n",
       "      <td>1</td>\n",
       "      <td>1</td>\n",
       "      <td>0.199974</td>\n",
       "    </tr>\n",
       "    <tr>\n",
       "      <th>338479</th>\n",
       "      <td>338480</td>\n",
       "      <td>-1</td>\n",
       "      <td>312359</td>\n",
       "      <td>853</td>\n",
       "      <td>53208</td>\n",
       "      <td>2579</td>\n",
       "      <td>1</td>\n",
       "      <td>1</td>\n",
       "      <td>0.020326</td>\n",
       "    </tr>\n",
       "    <tr>\n",
       "      <th>338480</th>\n",
       "      <td>338481</td>\n",
       "      <td>-1</td>\n",
       "      <td>312359</td>\n",
       "      <td>1092</td>\n",
       "      <td>585337</td>\n",
       "      <td>103</td>\n",
       "      <td>1</td>\n",
       "      <td>1</td>\n",
       "      <td>0.009444</td>\n",
       "    </tr>\n",
       "    <tr>\n",
       "      <th>338481</th>\n",
       "      <td>338482</td>\n",
       "      <td>-1</td>\n",
       "      <td>312359</td>\n",
       "      <td>5943</td>\n",
       "      <td>610001</td>\n",
       "      <td>2868</td>\n",
       "      <td>1</td>\n",
       "      <td>1</td>\n",
       "      <td>0.012775</td>\n",
       "    </tr>\n",
       "    <tr>\n",
       "      <th>338482</th>\n",
       "      <td>338483</td>\n",
       "      <td>-1</td>\n",
       "      <td>312359</td>\n",
       "      <td>2553</td>\n",
       "      <td>772834</td>\n",
       "      <td>4250</td>\n",
       "      <td>1</td>\n",
       "      <td>1</td>\n",
       "      <td>0.022138</td>\n",
       "    </tr>\n",
       "    <tr>\n",
       "      <th>338483</th>\n",
       "      <td>338484</td>\n",
       "      <td>-1</td>\n",
       "      <td>312359</td>\n",
       "      <td>6496</td>\n",
       "      <td>1043859</td>\n",
       "      <td>4867</td>\n",
       "      <td>1</td>\n",
       "      <td>3</td>\n",
       "      <td>0.004034</td>\n",
       "    </tr>\n",
       "    <tr>\n",
       "      <th>338484</th>\n",
       "      <td>338485</td>\n",
       "      <td>-1</td>\n",
       "      <td>312359</td>\n",
       "      <td>1456</td>\n",
       "      <td>365374</td>\n",
       "      <td>4455</td>\n",
       "      <td>2</td>\n",
       "      <td>1</td>\n",
       "      <td>0.005074</td>\n",
       "    </tr>\n",
       "    <tr>\n",
       "      <th>338485</th>\n",
       "      <td>338486</td>\n",
       "      <td>-1</td>\n",
       "      <td>312359</td>\n",
       "      <td>2962</td>\n",
       "      <td>2231643</td>\n",
       "      <td>4818</td>\n",
       "      <td>1</td>\n",
       "      <td>2</td>\n",
       "      <td>0.027579</td>\n",
       "    </tr>\n",
       "    <tr>\n",
       "      <th>338486</th>\n",
       "      <td>338487</td>\n",
       "      <td>-1</td>\n",
       "      <td>312359</td>\n",
       "      <td>4785</td>\n",
       "      <td>1673380</td>\n",
       "      <td>3322</td>\n",
       "      <td>1</td>\n",
       "      <td>3</td>\n",
       "      <td>0.013391</td>\n",
       "    </tr>\n",
       "    <tr>\n",
       "      <th>338487</th>\n",
       "      <td>338488</td>\n",
       "      <td>-1</td>\n",
       "      <td>312359</td>\n",
       "      <td>4432</td>\n",
       "      <td>1303085</td>\n",
       "      <td>4501</td>\n",
       "      <td>0</td>\n",
       "      <td>1</td>\n",
       "      <td>0.002869</td>\n",
       "    </tr>\n",
       "    <tr>\n",
       "      <th>338488</th>\n",
       "      <td>338489</td>\n",
       "      <td>-1</td>\n",
       "      <td>312359</td>\n",
       "      <td>2982</td>\n",
       "      <td>490286</td>\n",
       "      <td>7149</td>\n",
       "      <td>2</td>\n",
       "      <td>1</td>\n",
       "      <td>0.001203</td>\n",
       "    </tr>\n",
       "  </tbody>\n",
       "</table>\n",
       "<p>338489 rows × 9 columns</p>\n",
       "</div>"
      ],
      "text/plain": [
       "        instanceID  label  clickTime  creativeID   userID  positionID  \\\n",
       "0                1     -1     310000        3745  1164848        3451   \n",
       "1                2     -1     310000        2284  2127247        1613   \n",
       "2                3     -1     310000        1456  2769125        5510   \n",
       "3                4     -1     310000        4565     9762        4113   \n",
       "4                5     -1     310000          49  2513636        3615   \n",
       "5                6     -1     310000        3824   488035        3821   \n",
       "6                7     -1     310000         863   225561        4188   \n",
       "7                8     -1     310000        4469  1144620        4113   \n",
       "8                9     -1     310000        3745  1113275        3347   \n",
       "9               10     -1     310000        4565  1361729        2426   \n",
       "10              11     -1     310000        4250  1749379        4292   \n",
       "11              12     -1     310000        1456   840178        6086   \n",
       "12              13     -1     310000          51  1945411         977   \n",
       "13              14     -1     310000        4250  1789615        5875   \n",
       "14              15     -1     310000        5588   340733        2150   \n",
       "15              16     -1     310000        6001  1884781        1385   \n",
       "16              17     -1     310000        4432   596931        6667   \n",
       "17              18     -1     310000        4967   931181        6539   \n",
       "18              19     -1     310000        1704  2657412        2695   \n",
       "19              20     -1     310000        4565  1251533        7135   \n",
       "20              21     -1     310000        3690  1199429        6932   \n",
       "21              22     -1     310000        5527  2455848        3228   \n",
       "22              23     -1     310000        4565  1956857        5971   \n",
       "23              24     -1     310000        1831  1191158        2461   \n",
       "24              25     -1     310000        6190  2272417        1465   \n",
       "25              26     -1     310000        2189   390752        3789   \n",
       "26              27     -1     310000         594  1399698        6161   \n",
       "27              28     -1     310000        4250  2297337        6193   \n",
       "28              29     -1     310000        1092  1423913        5510   \n",
       "29              30     -1     310000        4250  1206944        2426   \n",
       "...            ...    ...        ...         ...      ...         ...   \n",
       "338459      338460     -1     312359        2389  1060910        1625   \n",
       "338460      338461     -1     312359        4565   569989        4292   \n",
       "338461      338462     -1     312359         863   478252        5030   \n",
       "338462      338463     -1     312359        3871  2493985        2044   \n",
       "338463      338464     -1     312359        2474  1712009        4818   \n",
       "338464      338465     -1     312359        4257  1422501        2150   \n",
       "338465      338466     -1     312359        3690  1238716         522   \n",
       "338466      338467     -1     312359        5187  2323692        5510   \n",
       "338467      338468     -1     312359        3192  1020405        3322   \n",
       "338468      338469     -1     312359        4432   364120        4455   \n",
       "338469      338470     -1     312359         863   666507        5013   \n",
       "338470      338471     -1     312359        5497  1163363        2823   \n",
       "338471      338472     -1     312359        4785  2160374        3322   \n",
       "338472      338473     -1     312359        1465  2452121        7619   \n",
       "338473      338474     -1     312359         985  1257057        4867   \n",
       "338474      338475     -1     312359        1456   106972        4657   \n",
       "338475      338476     -1     312359         750  1893932        3322   \n",
       "338476      338477     -1     312359        5258  1670094        3347   \n",
       "338477      338478     -1     312359        3869   399524        3789   \n",
       "338478      338479     -1     312359        4077  2611278        2579   \n",
       "338479      338480     -1     312359         853    53208        2579   \n",
       "338480      338481     -1     312359        1092   585337         103   \n",
       "338481      338482     -1     312359        5943   610001        2868   \n",
       "338482      338483     -1     312359        2553   772834        4250   \n",
       "338483      338484     -1     312359        6496  1043859        4867   \n",
       "338484      338485     -1     312359        1456   365374        4455   \n",
       "338485      338486     -1     312359        2962  2231643        4818   \n",
       "338486      338487     -1     312359        4785  1673380        3322   \n",
       "338487      338488     -1     312359        4432  1303085        4501   \n",
       "338488      338489     -1     312359        2982   490286        7149   \n",
       "\n",
       "        connectionType  telecomsOperator  predprob  \n",
       "0                    1                 3  0.004124  \n",
       "1                    1                 3  0.001383  \n",
       "2                    2                 1  0.004020  \n",
       "3                    2                 3  0.008154  \n",
       "4                    1                 3  0.000459  \n",
       "5                    1                 1  0.044990  \n",
       "6                    1                 3  0.028224  \n",
       "7                    1                 1  0.038953  \n",
       "8                    1                 2  0.003076  \n",
       "9                    2                 2  0.008091  \n",
       "10                   1                 3  0.031860  \n",
       "11                   1                 1  0.029257  \n",
       "12                   4                 2  0.004217  \n",
       "13                   1                 2  0.015997  \n",
       "14                   1                 1  0.018920  \n",
       "15                   1                 3  0.002879  \n",
       "16                   1                 3  0.020665  \n",
       "17                   1                 1  0.001875  \n",
       "18                   1                 0  0.062000  \n",
       "19                   1                 1  0.015653  \n",
       "20                   1                 1  0.010524  \n",
       "21                   1                 3  0.099999  \n",
       "22                   1                 1  0.041246  \n",
       "23                   1                 3  0.058741  \n",
       "24                   1                 1  0.047710  \n",
       "25                   1                 1  0.043926  \n",
       "26                   1                 2  0.000510  \n",
       "27                   2                 1  0.002050  \n",
       "28                   1                 3  0.010628  \n",
       "29                   2                 1  0.003253  \n",
       "...                ...               ...       ...  \n",
       "338459               1                 2  0.021878  \n",
       "338460               1                 1  0.013891  \n",
       "338461               1                 3  0.027540  \n",
       "338462               1                 1  0.020629  \n",
       "338463               1                 2  0.001445  \n",
       "338464               1                 1  0.026204  \n",
       "338465               1                 3  0.030265  \n",
       "338466               1                 1  0.021788  \n",
       "338467               1                 2  0.007649  \n",
       "338468               1                 3  0.018444  \n",
       "338469               1                 1  0.087917  \n",
       "338470               1                 3  0.017082  \n",
       "338471               1                 2  0.011951  \n",
       "338472               1                 2  0.021462  \n",
       "338473               1                 1  0.004614  \n",
       "338474               1                 1  0.061173  \n",
       "338475               1                 2  0.018566  \n",
       "338476               2                 3  0.005384  \n",
       "338477               1                 1  0.012361  \n",
       "338478               1                 1  0.199974  \n",
       "338479               1                 1  0.020326  \n",
       "338480               1                 1  0.009444  \n",
       "338481               1                 1  0.012775  \n",
       "338482               1                 1  0.022138  \n",
       "338483               1                 3  0.004034  \n",
       "338484               2                 1  0.005074  \n",
       "338485               1                 2  0.027579  \n",
       "338486               1                 3  0.013391  \n",
       "338487               0                 1  0.002869  \n",
       "338488               2                 1  0.001203  \n",
       "\n",
       "[338489 rows x 9 columns]"
      ]
     },
     "execution_count": 16,
     "metadata": {},
     "output_type": "execute_result"
    }
   ],
   "source": [
    "results"
   ]
  },
  {
   "cell_type": "code",
   "execution_count": 18,
   "metadata": {
    "collapsed": false
   },
   "outputs": [],
   "source": [
    "import zipfile\n",
    "df = pd.DataFrame({\"instanceID\": results[\"instanceID\"].values, \"proba\":results[\"predprob\"].values})\n",
    "df.sort_values(\"instanceID\", inplace=True)\n",
    "df.to_csv(\"submission.csv\", index=False)\n",
    "with zipfile.ZipFile(\"submission.zip\", \"w\") as fout:\n",
    "    fout.write(\"submission.csv\", compress_type=zipfile.ZIP_DEFLATED)"
   ]
  },
  {
   "cell_type": "code",
   "execution_count": 9,
   "metadata": {
    "collapsed": false,
    "scrolled": true
   },
   "outputs": [
    {
     "data": {
      "text/plain": [
       "((224769, 19), (1642649, 19))"
      ]
     },
     "execution_count": 9,
     "metadata": {},
     "output_type": "execute_result"
    }
   ],
   "source": [
    "test_X.shape,train_X.shape"
   ]
  },
  {
   "cell_type": "code",
   "execution_count": 10,
   "metadata": {
    "collapsed": true
   },
   "outputs": [],
   "source": [
    "np.random.seed(999)\n",
    "r1 = np.random.uniform(0, 1, train_X.shape[0])\n",
    "train_X = train_X.ix[r1 < 0.1, :]"
   ]
  },
  {
   "cell_type": "code",
   "execution_count": 11,
   "metadata": {
    "collapsed": true
   },
   "outputs": [],
   "source": [
    "np.random.seed(999)\n",
    "r1 = np.random.uniform(0, 1, test_X.shape[0])\n",
    "test_X = test_X.ix[r1 < 0.1, :]"
   ]
  },
  {
   "cell_type": "code",
   "execution_count": 12,
   "metadata": {
    "collapsed": false
   },
   "outputs": [
    {
     "data": {
      "text/html": [
       "<div>\n",
       "<table border=\"1\" class=\"dataframe\">\n",
       "  <thead>\n",
       "    <tr style=\"text-align: right;\">\n",
       "      <th></th>\n",
       "      <th>label</th>\n",
       "      <th>creativeID</th>\n",
       "      <th>positionID</th>\n",
       "      <th>connectionType</th>\n",
       "      <th>telecomsOperator</th>\n",
       "      <th>adID</th>\n",
       "      <th>camgaignID</th>\n",
       "      <th>advertiserID</th>\n",
       "      <th>appID</th>\n",
       "      <th>appPlatform</th>\n",
       "      <th>age</th>\n",
       "      <th>gender</th>\n",
       "      <th>education</th>\n",
       "      <th>residence</th>\n",
       "      <th>sitesetID</th>\n",
       "      <th>positionType</th>\n",
       "      <th>appCategory</th>\n",
       "      <th>day</th>\n",
       "      <th>hour</th>\n",
       "    </tr>\n",
       "  </thead>\n",
       "  <tbody>\n",
       "    <tr>\n",
       "      <th>4</th>\n",
       "      <td>0</td>\n",
       "      <td>3828</td>\n",
       "      <td>293</td>\n",
       "      <td>1</td>\n",
       "      <td>1</td>\n",
       "      <td>3313</td>\n",
       "      <td>83</td>\n",
       "      <td>10</td>\n",
       "      <td>434</td>\n",
       "      <td>1</td>\n",
       "      <td>21</td>\n",
       "      <td>2</td>\n",
       "      <td>1</td>\n",
       "      <td>1301</td>\n",
       "      <td>0</td>\n",
       "      <td>3</td>\n",
       "      <td>108</td>\n",
       "      <td>19</td>\n",
       "      <td>18</td>\n",
       "    </tr>\n",
       "  </tbody>\n",
       "</table>\n",
       "</div>"
      ],
      "text/plain": [
       "   label  creativeID  positionID  connectionType  telecomsOperator  adID  \\\n",
       "4      0        3828         293               1                 1  3313   \n",
       "\n",
       "   camgaignID  advertiserID  appID  appPlatform  age  gender  education  \\\n",
       "4          83            10    434            1   21       2          1   \n",
       "\n",
       "   residence  sitesetID  positionType  appCategory  day  hour  \n",
       "4       1301          0             3          108   19    18  "
      ]
     },
     "execution_count": 12,
     "metadata": {},
     "output_type": "execute_result"
    }
   ],
   "source": [
    "train_X[0:1]"
   ]
  },
  {
   "cell_type": "markdown",
   "metadata": {},
   "source": [
    "\n",
    "\n",
    "\n",
    "\n",
    "\n",
    "\n",
    "\n",
    "\n",
    "\n",
    "\n",
    "\n",
    "\n",
    "\n",
    "\n",
    "\n",
    "\n",
    "\n"
   ]
  },
  {
   "cell_type": "code",
   "execution_count": null,
   "metadata": {
    "collapsed": true
   },
   "outputs": [],
   "source": []
  },
  {
   "cell_type": "code",
   "execution_count": 13,
   "metadata": {
    "collapsed": true
   },
   "outputs": [],
   "source": [
    "import pandas as pd\n",
    "import numpy as np\n",
    "import xgboost as xgb\n",
    "from xgboost.sklearn import XGBClassifier\n",
    "from sklearn import cross_validation, metrics\n",
    "from sklearn.grid_search import GridSearchCV\n",
    "\n",
    "import matplotlib.pylab as plt\n",
    "%matplotlib inline\n",
    "from matplotlib.pylab import rcParams\n",
    "rcParams['figure.figsize'] = 12, 4"
   ]
  },
  {
   "cell_type": "code",
   "execution_count": 14,
   "metadata": {
    "collapsed": true
   },
   "outputs": [],
   "source": [
    "target='label'\n",
    "day='day'\n",
    "id='instanceID'"
   ]
  },
  {
   "cell_type": "code",
   "execution_count": 15,
   "metadata": {
    "collapsed": true
   },
   "outputs": [],
   "source": [
    "test_X['ID']=test_X.index"
   ]
  },
  {
   "cell_type": "code",
   "execution_count": 16,
   "metadata": {
    "collapsed": false
   },
   "outputs": [
    {
     "data": {
      "text/plain": [
       "0    160139\n",
       "1      4313\n",
       "Name: label, dtype: int64"
      ]
     },
     "execution_count": 16,
     "metadata": {},
     "output_type": "execute_result"
    }
   ],
   "source": [
    "train_X['label'].value_counts()"
   ]
  },
  {
   "cell_type": "code",
   "execution_count": 25,
   "metadata": {
    "collapsed": true
   },
   "outputs": [],
   "source": [
    "test_results=test_X"
   ]
  },
  {
   "cell_type": "code",
   "execution_count": 17,
   "metadata": {
    "collapsed": true
   },
   "outputs": [],
   "source": [
    "def modelfit(alg, dtrain, dtest, predictors,useTrainCV=True, cv_folds=5, early_stopping_rounds=50):\n",
    "    \n",
    "    if useTrainCV:\n",
    "        xgb_param = alg.get_xgb_params()\n",
    "        xgtrain = xgb.DMatrix(dtrain[predictors].values, label=dtrain[target].values)\n",
    "        xgtest = xgb.DMatrix(dtest[predictors].values)\n",
    "        cvresult = xgb.cv(xgb_param, xgtrain, num_boost_round=alg.get_params()['n_estimators'], nfold=cv_folds,\n",
    "            metrics='auc', early_stopping_rounds=early_stopping_rounds)\n",
    "        alg.set_params(n_estimators=cvresult.shape[0])\n",
    "    \n",
    "    #Fit the algorithm on the data\n",
    "    alg.fit(dtrain[predictors], dtrain['label'],eval_metric='auc')\n",
    "        \n",
    "    #Predict training set:\n",
    "    dtrain_predictions = alg.predict(dtrain[predictors])\n",
    "    dtrain_predprob = alg.predict_proba(dtrain[predictors])[:,1]\n",
    "        \n",
    "    #Print model report:\n",
    "    print \"\\nModel Report\"\n",
    "    print \"Accuracy : %.4g\" % metrics.accuracy_score(dtrain['label'].values, dtrain_predictions)\n",
    "    print \"AUC Score (Train): %f\" % metrics.roc_auc_score(dtrain['label'], dtrain_predprob)\n",
    "    \n",
    "#     Predict on testing data:\n",
    "    dtest['predprob'] = alg.predict_proba(dtest[predictors])[:,1]\n",
    "    print 'AUC Score (Test): %f' % metrics.roc_auc_score(dtest['label'], dtest['predprob'])\n",
    "                \n",
    "    feat_imp = pd.Series(alg.booster().get_fscore()).sort_values(ascending=False)\n",
    "    feat_imp.plot(kind='bar', title='Feature Importances')\n",
    "    plt.ylabel('Feature Importance Score')"
   ]
  },
  {
   "cell_type": "code",
   "execution_count": 19,
   "metadata": {
    "collapsed": false
   },
   "outputs": [
    {
     "name": "stdout",
     "output_type": "stream",
     "text": [
      "\n",
      "Model Report\n",
      "Accuracy : 0.9738\n",
      "AUC Score (Train): 0.845101\n",
      "AUC Score (Test): 0.780241\n"
     ]
    },
    {
     "data": {
      "image/png": "[encoded data removed]",
      "text/plain": [
       "<matplotlib.figure.Figure at 0x13d0cc88>"
      ]
     },
     "metadata": {},
     "output_type": "display_data"
    }
   ],
   "source": [
    "predictors = [x for x in train_X.columns if x not in [target,day]]\n",
    "xgb1 = XGBClassifier(\n",
    "        learning_rate =0.1,\n",
    "        n_estimators=1000,\n",
    "        max_depth=5,\n",
    "        min_child_weight=1,\n",
    "        gamma=0,\n",
    "        subsample=0.8,\n",
    "        colsample_bytree=0.8,\n",
    "        objective= 'binary:logistic',\n",
    "        nthread=4,\n",
    "        scale_pos_weight=1,\n",
    "        seed=27)\n",
    "modelfit(xgb1, train_X, test_X, predictors)"
   ]
  },
  {
   "cell_type": "code",
   "execution_count": 21,
   "metadata": {
    "collapsed": false
   },
   "outputs": [],
   "source": [
    "test_X['ss']=test_X.label.values"
   ]
  },
  {
   "cell_type": "code",
   "execution_count": 46,
   "metadata": {
    "collapsed": false
   },
   "outputs": [
    {
     "data": {
      "text/plain": [
       "XGBClassifier(base_score=0.5, colsample_bylevel=1, colsample_bytree=0.8,\n",
       "       gamma=0, learning_rate=0.1, max_delta_step=0, max_depth=5,\n",
       "       min_child_weight=1, missing=None, n_estimators=58, nthread=4,\n",
       "       objective='binary:logistic', reg_alpha=0, reg_lambda=1,\n",
       "       scale_pos_weight=1, seed=27, silent=True, subsample=0.8)"
      ]
     },
     "execution_count": 46,
     "metadata": {},
     "output_type": "execute_result"
    }
   ],
   "source": [
    "alg.fit(dtrain[predictors], dtrain['label'],eval_metric='auc')"
   ]
  },
  {
   "cell_type": "code",
   "execution_count": 47,
   "metadata": {
    "collapsed": true
   },
   "outputs": [],
   "source": [
    "dtrain_predictions = alg.predict(dtrain[predictors])"
   ]
  },
  {
   "cell_type": "code",
   "execution_count": 48,
   "metadata": {
    "collapsed": true
   },
   "outputs": [],
   "source": [
    "dtrain_predprob = alg.predict_proba(dtrain[predictors])[:,1]"
   ]
  },
  {
   "cell_type": "code",
   "execution_count": 49,
   "metadata": {
    "collapsed": false
   },
   "outputs": [
    {
     "name": "stdout",
     "output_type": "stream",
     "text": [
      "\n",
      "Model Report\n",
      "Accuracy : 0.9739\n",
      "AUC Score (Train): 0.839961\n"
     ]
    }
   ],
   "source": [
    "print \"\\nModel Report\"\n",
    "print \"Accuracy : %.4g\" % metrics.accuracy_score(dtrain['label'].values, dtrain_predictions)\n",
    "print \"AUC Score (Train): %f\" % metrics.roc_auc_score(dtrain['label'], dtrain_predprob)"
   ]
  },
  {
   "cell_type": "code",
   "execution_count": 50,
   "metadata": {
    "collapsed": true
   },
   "outputs": [],
   "source": [
    "dtest['predprob'] = alg.predict_proba(dtest[predictors])[:,1]\n",
    "results = test_results.merge(dtest[['ID','predprob']], on='ID')"
   ]
  },
  {
   "cell_type": "code",
   "execution_count": 53,
   "metadata": {
    "collapsed": false
   },
   "outputs": [],
   "source": [
    "del results['predprob_y'] "
   ]
  },
  {
   "cell_type": "code",
   "execution_count": 54,
   "metadata": {
    "collapsed": true
   },
   "outputs": [],
   "source": [
    "results = test_results.merge(dtest[['ID','predprob']], on='ID')"
   ]
  },
  {
   "cell_type": "code",
   "execution_count": 58,
   "metadata": {
    "collapsed": false
   },
   "outputs": [],
   "source": [
    "results=test_results"
   ]
  },
  {
   "cell_type": "code",
   "execution_count": 59,
   "metadata": {
    "collapsed": false
   },
   "outputs": [
    {
     "name": "stdout",
     "output_type": "stream",
     "text": [
      "AUC Score (Test): 0.758705\n"
     ]
    }
   ],
   "source": [
    " print 'AUC Score (Test): %f' % metrics.roc_auc_score(results['label'], results['predprob'])\n",
    "         "
   ]
  },
  {
   "cell_type": "code",
   "execution_count": 60,
   "metadata": {
    "collapsed": false
   },
   "outputs": [
    {
     "data": {
      "text/plain": [
       "<matplotlib.text.Text at 0x15024240>"
      ]
     },
     "execution_count": 60,
     "metadata": {},
     "output_type": "execute_result"
    },
    {
     "data": {
      "image/png": "[encoded data removed]",
      "text/plain": [
       "<matplotlib.figure.Figure at 0x17746908>"
      ]
     },
     "metadata": {},
     "output_type": "display_data"
    }
   ],
   "source": [
    "feat_imp = pd.Series(alg.booster().get_fscore()).sort_values(ascending=False)\n",
    "feat_imp.plot(kind='bar', title='Feature Importances')\n",
    "plt.ylabel('Feature Importance Score')"
   ]
  },
  {
   "cell_type": "code",
   "execution_count": null,
   "metadata": {
    "collapsed": true
   },
   "outputs": [],
   "source": []
  },
  {
   "cell_type": "code",
   "execution_count": null,
   "metadata": {
    "collapsed": true
   },
   "outputs": [],
   "source": []
  },
  {
   "cell_type": "code",
   "execution_count": null,
   "metadata": {
    "collapsed": true
   },
   "outputs": [],
   "source": []
  },
  {
   "cell_type": "code",
   "execution_count": null,
   "metadata": {
    "collapsed": true
   },
   "outputs": [],
   "source": [
    "test['zreo']=test.apply(lambda x: sum(x==0),1)"
   ]
  },
  {
   "cell_type": "code",
   "execution_count": 3,
   "metadata": {
    "collapsed": false
   },
   "outputs": [
    {
     "data": {
      "text/html": [
       "<div>\n",
       "<table border=\"1\" class=\"dataframe\">\n",
       "  <thead>\n",
       "    <tr style=\"text-align: right;\">\n",
       "      <th></th>\n",
       "      <th>label</th>\n",
       "      <th>clickTime</th>\n",
       "      <th>creativeID</th>\n",
       "      <th>userID</th>\n",
       "      <th>positionID</th>\n",
       "      <th>connectionType</th>\n",
       "      <th>telecomsOperator</th>\n",
       "      <th>adID</th>\n",
       "      <th>camgaignID</th>\n",
       "      <th>advertiserID</th>\n",
       "      <th>...</th>\n",
       "      <th>education</th>\n",
       "      <th>marriageStatus</th>\n",
       "      <th>haveBaby</th>\n",
       "      <th>hometown</th>\n",
       "      <th>residence</th>\n",
       "      <th>sitesetID</th>\n",
       "      <th>positionType</th>\n",
       "      <th>appCategory</th>\n",
       "      <th>day</th>\n",
       "      <th>hour</th>\n",
       "    </tr>\n",
       "  </thead>\n",
       "  <tbody>\n",
       "    <tr>\n",
       "      <th>0</th>\n",
       "      <td>0</td>\n",
       "      <td>170000</td>\n",
       "      <td>3089</td>\n",
       "      <td>2798058</td>\n",
       "      <td>293</td>\n",
       "      <td>1</td>\n",
       "      <td>1</td>\n",
       "      <td>1321</td>\n",
       "      <td>83</td>\n",
       "      <td>10</td>\n",
       "      <td>...</td>\n",
       "      <td>1</td>\n",
       "      <td>3</td>\n",
       "      <td>1</td>\n",
       "      <td>0</td>\n",
       "      <td>1301</td>\n",
       "      <td>0</td>\n",
       "      <td>3</td>\n",
       "      <td>108</td>\n",
       "      <td>17</td>\n",
       "      <td>0</td>\n",
       "    </tr>\n",
       "    <tr>\n",
       "      <th>1</th>\n",
       "      <td>0</td>\n",
       "      <td>180028</td>\n",
       "      <td>3089</td>\n",
       "      <td>1683269</td>\n",
       "      <td>293</td>\n",
       "      <td>2</td>\n",
       "      <td>3</td>\n",
       "      <td>1321</td>\n",
       "      <td>83</td>\n",
       "      <td>10</td>\n",
       "      <td>...</td>\n",
       "      <td>0</td>\n",
       "      <td>1</td>\n",
       "      <td>0</td>\n",
       "      <td>2109</td>\n",
       "      <td>1303</td>\n",
       "      <td>0</td>\n",
       "      <td>3</td>\n",
       "      <td>108</td>\n",
       "      <td>18</td>\n",
       "      <td>0</td>\n",
       "    </tr>\n",
       "    <tr>\n",
       "      <th>2</th>\n",
       "      <td>0</td>\n",
       "      <td>191045</td>\n",
       "      <td>3089</td>\n",
       "      <td>240899</td>\n",
       "      <td>293</td>\n",
       "      <td>1</td>\n",
       "      <td>2</td>\n",
       "      <td>1321</td>\n",
       "      <td>83</td>\n",
       "      <td>10</td>\n",
       "      <td>...</td>\n",
       "      <td>1</td>\n",
       "      <td>3</td>\n",
       "      <td>0</td>\n",
       "      <td>1303</td>\n",
       "      <td>1004</td>\n",
       "      <td>0</td>\n",
       "      <td>3</td>\n",
       "      <td>108</td>\n",
       "      <td>19</td>\n",
       "      <td>10</td>\n",
       "    </tr>\n",
       "    <tr>\n",
       "      <th>3</th>\n",
       "      <td>0</td>\n",
       "      <td>202250</td>\n",
       "      <td>5970</td>\n",
       "      <td>2270688</td>\n",
       "      <td>293</td>\n",
       "      <td>1</td>\n",
       "      <td>2</td>\n",
       "      <td>612</td>\n",
       "      <td>83</td>\n",
       "      <td>10</td>\n",
       "      <td>...</td>\n",
       "      <td>1</td>\n",
       "      <td>3</td>\n",
       "      <td>0</td>\n",
       "      <td>0</td>\n",
       "      <td>1303</td>\n",
       "      <td>0</td>\n",
       "      <td>3</td>\n",
       "      <td>108</td>\n",
       "      <td>20</td>\n",
       "      <td>22</td>\n",
       "    </tr>\n",
       "    <tr>\n",
       "      <th>4</th>\n",
       "      <td>0</td>\n",
       "      <td>191858</td>\n",
       "      <td>3828</td>\n",
       "      <td>1627759</td>\n",
       "      <td>293</td>\n",
       "      <td>1</td>\n",
       "      <td>1</td>\n",
       "      <td>3313</td>\n",
       "      <td>83</td>\n",
       "      <td>10</td>\n",
       "      <td>...</td>\n",
       "      <td>1</td>\n",
       "      <td>0</td>\n",
       "      <td>0</td>\n",
       "      <td>1301</td>\n",
       "      <td>1301</td>\n",
       "      <td>0</td>\n",
       "      <td>3</td>\n",
       "      <td>108</td>\n",
       "      <td>19</td>\n",
       "      <td>18</td>\n",
       "    </tr>\n",
       "  </tbody>\n",
       "</table>\n",
       "<p>5 rows × 24 columns</p>\n",
       "</div>"
      ],
      "text/plain": [
       "   label  clickTime  creativeID   userID  positionID  connectionType  \\\n",
       "0      0     170000        3089  2798058         293               1   \n",
       "1      0     180028        3089  1683269         293               2   \n",
       "2      0     191045        3089   240899         293               1   \n",
       "3      0     202250        5970  2270688         293               1   \n",
       "4      0     191858        3828  1627759         293               1   \n",
       "\n",
       "   telecomsOperator  adID  camgaignID  advertiserID  ...   education  \\\n",
       "0                 1  1321          83            10  ...           1   \n",
       "1                 3  1321          83            10  ...           0   \n",
       "2                 2  1321          83            10  ...           1   \n",
       "3                 2   612          83            10  ...           1   \n",
       "4                 1  3313          83            10  ...           1   \n",
       "\n",
       "   marriageStatus  haveBaby  hometown  residence  sitesetID  positionType  \\\n",
       "0               3         1         0       1301          0             3   \n",
       "1               1         0      2109       1303          0             3   \n",
       "2               3         0      1303       1004          0             3   \n",
       "3               3         0         0       1303          0             3   \n",
       "4               0         0      1301       1301          0             3   \n",
       "\n",
       "   appCategory  day  hour  \n",
       "0          108   17     0  \n",
       "1          108   18     0  \n",
       "2          108   19    10  \n",
       "3          108   20    22  \n",
       "4          108   19    18  \n",
       "\n",
       "[5 rows x 24 columns]"
      ]
     },
     "execution_count": 3,
     "metadata": {},
     "output_type": "execute_result"
    }
   ],
   "source": [
    "train[0:5]"
   ]
  },
  {
   "cell_type": "code",
   "execution_count": 18,
   "metadata": {
    "collapsed": true
   },
   "outputs": [],
   "source": [
    "test=pd.merge(test,ad,on='creativeID')\n",
    "test=pd.merge(test,user,on='userID')\n",
    "test=pd.merge(test,position,on='positionID')\n",
    "test=pd.merge(test,app_categories,on='appID')\n",
    "test['day']=test.clickTime.values/10000\n",
    "test['hour']=test.clickTime.values/100%100"
   ]
  },
  {
   "cell_type": "code",
   "execution_count": 19,
   "metadata": {
    "collapsed": false
   },
   "outputs": [
    {
     "data": {
      "text/html": [
       "<div>\n",
       "<table border=\"1\" class=\"dataframe\">\n",
       "  <thead>\n",
       "    <tr style=\"text-align: right;\">\n",
       "      <th></th>\n",
       "      <th>instanceID</th>\n",
       "      <th>label</th>\n",
       "      <th>clickTime</th>\n",
       "      <th>creativeID</th>\n",
       "      <th>userID</th>\n",
       "      <th>positionID</th>\n",
       "      <th>connectionType</th>\n",
       "      <th>telecomsOperator</th>\n",
       "      <th>adID</th>\n",
       "      <th>camgaignID</th>\n",
       "      <th>...</th>\n",
       "      <th>education</th>\n",
       "      <th>marriageStatus</th>\n",
       "      <th>haveBaby</th>\n",
       "      <th>hometown</th>\n",
       "      <th>residence</th>\n",
       "      <th>sitesetID</th>\n",
       "      <th>positionType</th>\n",
       "      <th>appCategory</th>\n",
       "      <th>day</th>\n",
       "      <th>hour</th>\n",
       "    </tr>\n",
       "  </thead>\n",
       "  <tbody>\n",
       "    <tr>\n",
       "      <th>0</th>\n",
       "      <td>1</td>\n",
       "      <td>-1</td>\n",
       "      <td>310000</td>\n",
       "      <td>3745</td>\n",
       "      <td>1164848</td>\n",
       "      <td>3451</td>\n",
       "      <td>1</td>\n",
       "      <td>3</td>\n",
       "      <td>1166</td>\n",
       "      <td>430</td>\n",
       "      <td>...</td>\n",
       "      <td>1</td>\n",
       "      <td>0</td>\n",
       "      <td>1</td>\n",
       "      <td>605</td>\n",
       "      <td>605</td>\n",
       "      <td>0</td>\n",
       "      <td>1</td>\n",
       "      <td>2</td>\n",
       "      <td>31</td>\n",
       "      <td>0</td>\n",
       "    </tr>\n",
       "    <tr>\n",
       "      <th>1</th>\n",
       "      <td>178</td>\n",
       "      <td>-1</td>\n",
       "      <td>310001</td>\n",
       "      <td>3745</td>\n",
       "      <td>2170066</td>\n",
       "      <td>3451</td>\n",
       "      <td>1</td>\n",
       "      <td>2</td>\n",
       "      <td>1166</td>\n",
       "      <td>430</td>\n",
       "      <td>...</td>\n",
       "      <td>2</td>\n",
       "      <td>0</td>\n",
       "      <td>1</td>\n",
       "      <td>906</td>\n",
       "      <td>906</td>\n",
       "      <td>0</td>\n",
       "      <td>1</td>\n",
       "      <td>2</td>\n",
       "      <td>31</td>\n",
       "      <td>0</td>\n",
       "    </tr>\n",
       "    <tr>\n",
       "      <th>2</th>\n",
       "      <td>21839</td>\n",
       "      <td>-1</td>\n",
       "      <td>310524</td>\n",
       "      <td>3745</td>\n",
       "      <td>786179</td>\n",
       "      <td>3451</td>\n",
       "      <td>1</td>\n",
       "      <td>1</td>\n",
       "      <td>1166</td>\n",
       "      <td>430</td>\n",
       "      <td>...</td>\n",
       "      <td>3</td>\n",
       "      <td>2</td>\n",
       "      <td>1</td>\n",
       "      <td>604</td>\n",
       "      <td>604</td>\n",
       "      <td>0</td>\n",
       "      <td>1</td>\n",
       "      <td>2</td>\n",
       "      <td>31</td>\n",
       "      <td>5</td>\n",
       "    </tr>\n",
       "    <tr>\n",
       "      <th>3</th>\n",
       "      <td>25947</td>\n",
       "      <td>-1</td>\n",
       "      <td>310623</td>\n",
       "      <td>3745</td>\n",
       "      <td>1467866</td>\n",
       "      <td>3451</td>\n",
       "      <td>1</td>\n",
       "      <td>3</td>\n",
       "      <td>1166</td>\n",
       "      <td>430</td>\n",
       "      <td>...</td>\n",
       "      <td>5</td>\n",
       "      <td>1</td>\n",
       "      <td>0</td>\n",
       "      <td>305</td>\n",
       "      <td>305</td>\n",
       "      <td>0</td>\n",
       "      <td>1</td>\n",
       "      <td>2</td>\n",
       "      <td>31</td>\n",
       "      <td>6</td>\n",
       "    </tr>\n",
       "    <tr>\n",
       "      <th>4</th>\n",
       "      <td>26757</td>\n",
       "      <td>-1</td>\n",
       "      <td>310631</td>\n",
       "      <td>3745</td>\n",
       "      <td>1230630</td>\n",
       "      <td>3451</td>\n",
       "      <td>1</td>\n",
       "      <td>3</td>\n",
       "      <td>1166</td>\n",
       "      <td>430</td>\n",
       "      <td>...</td>\n",
       "      <td>3</td>\n",
       "      <td>2</td>\n",
       "      <td>0</td>\n",
       "      <td>0</td>\n",
       "      <td>0</td>\n",
       "      <td>0</td>\n",
       "      <td>1</td>\n",
       "      <td>2</td>\n",
       "      <td>31</td>\n",
       "      <td>6</td>\n",
       "    </tr>\n",
       "  </tbody>\n",
       "</table>\n",
       "<p>5 rows × 25 columns</p>\n",
       "</div>"
      ],
      "text/plain": [
       "   instanceID  label  clickTime  creativeID   userID  positionID  \\\n",
       "0           1     -1     310000        3745  1164848        3451   \n",
       "1         178     -1     310001        3745  2170066        3451   \n",
       "2       21839     -1     310524        3745   786179        3451   \n",
       "3       25947     -1     310623        3745  1467866        3451   \n",
       "4       26757     -1     310631        3745  1230630        3451   \n",
       "\n",
       "   connectionType  telecomsOperator  adID  camgaignID  ...   education  \\\n",
       "0               1                 3  1166         430  ...           1   \n",
       "1               1                 2  1166         430  ...           2   \n",
       "2               1                 1  1166         430  ...           3   \n",
       "3               1                 3  1166         430  ...           5   \n",
       "4               1                 3  1166         430  ...           3   \n",
       "\n",
       "   marriageStatus  haveBaby  hometown  residence  sitesetID  positionType  \\\n",
       "0               0         1       605        605          0             1   \n",
       "1               0         1       906        906          0             1   \n",
       "2               2         1       604        604          0             1   \n",
       "3               1         0       305        305          0             1   \n",
       "4               2         0         0          0          0             1   \n",
       "\n",
       "   appCategory  day  hour  \n",
       "0            2   31     0  \n",
       "1            2   31     0  \n",
       "2            2   31     5  \n",
       "3            2   31     6  \n",
       "4            2   31     6  \n",
       "\n",
       "[5 rows x 25 columns]"
      ]
     },
     "execution_count": 19,
     "metadata": {},
     "output_type": "execute_result"
    }
   ],
   "source": [
    "test[0:5]"
   ]
  },
  {
   "cell_type": "code",
   "execution_count": 13,
   "metadata": {
    "collapsed": false
   },
   "outputs": [
    {
     "data": {
      "text/plain": [
       "Index([u'label', u'clickTime', u'creativeID', u'userID', u'positionID',\n",
       "       u'connectionType', u'telecomsOperator', u'adID', u'camgaignID',\n",
       "       u'advertiserID', u'appID', u'appPlatform', u'age', u'gender',\n",
       "       u'education', u'marriageStatus', u'haveBaby', u'hometown', u'residence',\n",
       "       u'sitesetID', u'positionType', u'appCategory', u'day', u'hour'],\n",
       "      dtype='object')"
      ]
     },
     "execution_count": 13,
     "metadata": {},
     "output_type": "execute_result"
    }
   ],
   "source": [
    "train.columns"
   ]
  },
  {
   "cell_type": "code",
   "execution_count": 20,
   "metadata": {
    "collapsed": false
   },
   "outputs": [
    {
     "data": {
      "text/plain": [
       "(4088017, 26)"
      ]
     },
     "execution_count": 20,
     "metadata": {},
     "output_type": "execute_result"
    }
   ],
   "source": [
    "train['source']= 'train'\n",
    "test['source'] = 'test'\n",
    "data=pd.concat([train, test],ignore_index=True)\n",
    "data.shape"
   ]
  },
  {
   "cell_type": "code",
   "execution_count": 14,
   "metadata": {
    "collapsed": false
   },
   "outputs": [
    {
     "data": {
      "text/plain": [
       "Index([u'instanceID', u'label', u'clickTime', u'creativeID', u'userID',\n",
       "       u'positionID', u'connectionType', u'telecomsOperator', u'adID',\n",
       "       u'camgaignID', u'advertiserID', u'appID', u'appPlatform', u'age',\n",
       "       u'gender', u'education', u'marriageStatus', u'haveBaby', u'hometown',\n",
       "       u'residence', u'sitesetID', u'positionType', u'appCategory', u'day',\n",
       "       u'hour'],\n",
       "      dtype='object')"
      ]
     },
     "execution_count": 14,
     "metadata": {},
     "output_type": "execute_result"
    }
   ],
   "source": [
    "test.columns"
   ]
  },
  {
   "cell_type": "code",
   "execution_count": 30,
   "metadata": {
    "collapsed": false
   },
   "outputs": [],
   "source": [
    "data['zreo']=data.apply(lambda x: sum(x==0),1)\n"
   ]
  },
  {
   "cell_type": "code",
   "execution_count": 33,
   "metadata": {
    "collapsed": false
   },
   "outputs": [
    {
     "data": {
      "text/html": [
       "<div>\n",
       "<table border=\"1\" class=\"dataframe\">\n",
       "  <thead>\n",
       "    <tr style=\"text-align: right;\">\n",
       "      <th></th>\n",
       "      <th>adID</th>\n",
       "      <th>advertiserID</th>\n",
       "      <th>age</th>\n",
       "      <th>appCategory</th>\n",
       "      <th>appID</th>\n",
       "      <th>appPlatform</th>\n",
       "      <th>camgaignID</th>\n",
       "      <th>clickTime</th>\n",
       "      <th>connectionType</th>\n",
       "      <th>creativeID</th>\n",
       "      <th>...</th>\n",
       "      <th>label</th>\n",
       "      <th>marriageStatus</th>\n",
       "      <th>positionID</th>\n",
       "      <th>positionType</th>\n",
       "      <th>residence</th>\n",
       "      <th>sitesetID</th>\n",
       "      <th>source</th>\n",
       "      <th>telecomsOperator</th>\n",
       "      <th>userID</th>\n",
       "      <th>zreo</th>\n",
       "    </tr>\n",
       "  </thead>\n",
       "  <tbody>\n",
       "    <tr>\n",
       "      <th>0</th>\n",
       "      <td>1321</td>\n",
       "      <td>10</td>\n",
       "      <td>25</td>\n",
       "      <td>108</td>\n",
       "      <td>434</td>\n",
       "      <td>1</td>\n",
       "      <td>83</td>\n",
       "      <td>170000</td>\n",
       "      <td>1</td>\n",
       "      <td>3089</td>\n",
       "      <td>...</td>\n",
       "      <td>0</td>\n",
       "      <td>3</td>\n",
       "      <td>293</td>\n",
       "      <td>3</td>\n",
       "      <td>1301</td>\n",
       "      <td>0</td>\n",
       "      <td>train</td>\n",
       "      <td>1</td>\n",
       "      <td>2798058</td>\n",
       "      <td>4</td>\n",
       "    </tr>\n",
       "  </tbody>\n",
       "</table>\n",
       "<p>1 rows × 27 columns</p>\n",
       "</div>"
      ],
      "text/plain": [
       "   adID  advertiserID  age  appCategory  appID  appPlatform  camgaignID  \\\n",
       "0  1321            10   25          108    434            1          83   \n",
       "\n",
       "   clickTime  connectionType  creativeID  ...   label  marriageStatus  \\\n",
       "0     170000               1        3089  ...       0               3   \n",
       "\n",
       "   positionID  positionType  residence  sitesetID  source  telecomsOperator  \\\n",
       "0         293             3       1301          0   train                 1   \n",
       "\n",
       "    userID  zreo  \n",
       "0  2798058     4  \n",
       "\n",
       "[1 rows x 27 columns]"
      ]
     },
     "execution_count": 33,
     "metadata": {},
     "output_type": "execute_result"
    }
   ],
   "source": [
    "data[0:1]"
   ]
  },
  {
   "cell_type": "markdown",
   "metadata": {},
   "source": [
    "拼接 train ，test 数据"
   ]
  },
  {
   "cell_type": "code",
   "execution_count": 35,
   "metadata": {
    "collapsed": false
   },
   "outputs": [
    {
     "data": {
      "text/plain": [
       "3     1306306\n",
       "4     1112352\n",
       "5      584495\n",
       "2      355861\n",
       "6      310122\n",
       "7      195755\n",
       "8      147598\n",
       "9       48662\n",
       "1       24143\n",
       "10       2537\n",
       "0         116\n",
       "11         70\n",
       "Name: zreo, dtype: int64"
      ]
     },
     "execution_count": 35,
     "metadata": {},
     "output_type": "execute_result"
    }
   ],
   "source": [
    "data['zreo'].value_counts()"
   ]
  },
  {
   "cell_type": "code",
   "execution_count": null,
   "metadata": {
    "collapsed": true
   },
   "outputs": [],
   "source": []
  },
  {
   "cell_type": "code",
   "execution_count": 48,
   "metadata": {
    "collapsed": true
   },
   "outputs": [],
   "source": [
    "target='label'\n",
    "id='instanceID'"
   ]
  },
  {
   "cell_type": "code",
   "execution_count": 15,
   "metadata": {
    "collapsed": false,
    "scrolled": true
   },
   "outputs": [
    {
     "data": {
      "text/plain": [
       "0     445656\n",
       "15    198469\n",
       "16    158922\n",
       "13    153770\n",
       "17    152810\n",
       "19    146127\n",
       "14    142515\n",
       "20    142457\n",
       "18    141921\n",
       "25    127243\n",
       "21    122891\n",
       "26    120452\n",
       "12    119651\n",
       "22    117684\n",
       "23    112739\n",
       "27    109965\n",
       "11    106428\n",
       "28    103916\n",
       "24    103333\n",
       "29     88676\n",
       "30     71968\n",
       "31     62085\n",
       "33     56213\n",
       "32     54274\n",
       "10     53877\n",
       "34     44333\n",
       "35     43804\n",
       "36     39018\n",
       "37     35084\n",
       "38     28754\n",
       "       ...  \n",
       "6       5625\n",
       "5       4926\n",
       "54      3240\n",
       "55      3193\n",
       "4       2773\n",
       "56      2714\n",
       "57      2605\n",
       "58      2359\n",
       "59      2040\n",
       "60      1604\n",
       "61      1393\n",
       "62       672\n",
       "63       462\n",
       "66       440\n",
       "65       403\n",
       "64       368\n",
       "67       337\n",
       "68       257\n",
       "80       256\n",
       "71       181\n",
       "70       171\n",
       "69       171\n",
       "74       168\n",
       "72       141\n",
       "78       130\n",
       "73       130\n",
       "76       121\n",
       "77       116\n",
       "75       101\n",
       "79        68\n",
       "Name: age, dtype: int64"
      ]
     },
     "execution_count": 15,
     "metadata": {},
     "output_type": "execute_result"
    }
   ],
   "source": [
    "train['age'].value_counts()"
   ]
  },
  {
   "cell_type": "code",
   "execution_count": 16,
   "metadata": {
    "collapsed": false
   },
   "outputs": [
    {
     "data": {
      "text/plain": [
       "[None]"
      ]
     },
     "execution_count": 16,
     "metadata": {},
     "output_type": "execute_result"
    }
   ],
   "source": [
    "import matplotlib.pyplot as plt\n",
    "fig = plt.figure()\n",
    "fig.set(alpha=0.2)  # 设定图表颜色alpha参数\n"
   ]
  },
  {
   "cell_type": "code",
   "execution_count": null,
   "metadata": {
    "collapsed": false
   },
   "outputs": [],
   "source": [
    "train.age[train.label==1].plot(kind='bar')\n",
    "train.age[train.label==0].plot(kind='bar')"
   ]
  },
  {
   "cell_type": "code",
   "execution_count": 19,
   "metadata": {
    "collapsed": true
   },
   "outputs": [],
   "source": [
    "plt.show()"
   ]
  },
  {
   "cell_type": "code",
   "execution_count": 56,
   "metadata": {
    "collapsed": true
   },
   "outputs": [],
   "source": [
    "import pandas as pd\n",
    "import numpy as np\n",
    "import xgboost as xgb\n",
    "from xgboost.sklearn import XGBClassifier\n",
    "from sklearn import cross_validation, metrics\n",
    "from sklearn.grid_search import GridSearchCV\n",
    "\n",
    "import matplotlib.pylab as plt\n",
    "%matplotlib inline\n",
    "from matplotlib.pylab import rcParams\n",
    "rcParams['figure.figsize'] = 12, 4"
   ]
  },
  {
   "cell_type": "code",
   "execution_count": 60,
   "metadata": {
    "collapsed": true
   },
   "outputs": [],
   "source": [
    "def modelfit(alg, dtrain, dtest, predictors,useTrainCV=True, cv_folds=5, early_stopping_rounds=50):\n",
    "    \n",
    "    if useTrainCV:\n",
    "        xgb_param = alg.get_xgb_params()\n",
    "        xgtrain = xgb.DMatrix(dtrain[predictors].values, label=dtrain[target].values)\n",
    "        xgtest = xgb.DMatrix(dtest[predictors].values)\n",
    "        cvresult = xgb.cv(xgb_param, xgtrain, num_boost_round=alg.get_params()['n_estimators'], nfold=cv_folds,\n",
    "            metrics='auc', early_stopping_rounds=early_stopping_rounds)\n",
    "        alg.set_params(n_estimators=cvresult.shape[0])\n",
    "    \n",
    "    #Fit the algorithm on the data\n",
    "    alg.fit(dtrain[predictors], dtrain['label'],eval_metric='auc')\n",
    "        \n",
    "    #Predict training set:\n",
    "    dtrain_predictions = alg.predict(dtrain[predictors])\n",
    "    dtrain_predprob = alg.predict_proba(dtrain[predictors])[:,1]\n",
    "        \n",
    "    #Print model report:\n",
    "    print \"\\nModel Report\"\n",
    "    print \"Accuracy : %.4g\" % metrics.accuracy_score(dtrain['label'].values, dtrain_predictions)\n",
    "    print \"AUC Score (Train): %f\" % metrics.roc_auc_score(dtrain['label'], dtrain_predprob)\n",
    "    \n",
    "#     Predict on testing data:\n",
    "    dtest['predprob'] = alg.predict_proba(dtest[predictors])[:,1]\n",
    "    results = test_results.merge(dtest[['instanceID','predprob']], on='instanceID')\n",
    "    print 'AUC Score (Test): %f' % metrics.roc_auc_score(results['label'], results['predprob'])\n",
    "                \n",
    "    feat_imp = pd.Series(alg.booster().get_fscore()).sort_values(ascending=False)\n",
    "    feat_imp.plot(kind='bar', title='Feature Importances')\n",
    "    plt.ylabel('Feature Importance Score')"
   ]
  },
  {
   "cell_type": "code",
   "execution_count": 58,
   "metadata": {
    "collapsed": false
   },
   "outputs": [],
   "source": [
    "predictors = [x for x in train.columns if x not in [target]]"
   ]
  },
  {
   "cell_type": "code",
   "execution_count": null,
   "metadata": {
    "collapsed": true
   },
   "outputs": [],
   "source": []
  },
  {
   "cell_type": "code",
   "execution_count": null,
   "metadata": {
    "collapsed": false
   },
   "outputs": [
    {
     "name": "stdout",
     "output_type": "stream",
     "text": [
      "\n",
      "Model Report\n",
      "Accuracy : 0.9752\n",
      "AUC Score (Train): 0.818981\n"
     ]
    },
    {
     "ename": "NameError",
     "evalue": "global name 'test_results' is not defined",
     "output_type": "error",
     "traceback": [
      "\u001b[1;31m---------------------------------------------------------------------------\u001b[0m",
      "\u001b[1;31mNameError\u001b[0m                                 Traceback (most recent call last)",
      "\u001b[1;32m<ipython-input-61-ebe9791c79fd>\u001b[0m in \u001b[0;36m<module>\u001b[1;34m()\u001b[0m\n\u001b[0;32m     11\u001b[0m         \u001b[0mscale_pos_weight\u001b[0m\u001b[1;33m=\u001b[0m\u001b[1;36m1\u001b[0m\u001b[1;33m,\u001b[0m\u001b[1;33m\u001b[0m\u001b[0m\n\u001b[0;32m     12\u001b[0m         seed=27)\n\u001b[1;32m---> 13\u001b[1;33m \u001b[0mmodelfit\u001b[0m\u001b[1;33m(\u001b[0m\u001b[0mxgb1\u001b[0m\u001b[1;33m,\u001b[0m \u001b[0mtrain\u001b[0m\u001b[1;33m,\u001b[0m \u001b[0mtest\u001b[0m\u001b[1;33m,\u001b[0m \u001b[0mpredictors\u001b[0m\u001b[1;33m)\u001b[0m\u001b[1;33m\u001b[0m\u001b[0m\n\u001b[0m",
      "\u001b[1;32m<ipython-input-60-2b3df0999795>\u001b[0m in \u001b[0;36mmodelfit\u001b[1;34m(alg, dtrain, dtest, predictors, useTrainCV, cv_folds, early_stopping_rounds)\u001b[0m\n\u001b[0;32m     23\u001b[0m \u001b[1;31m#     Predict on testing data:\u001b[0m\u001b[1;33m\u001b[0m\u001b[1;33m\u001b[0m\u001b[0m\n\u001b[0;32m     24\u001b[0m     \u001b[0mdtest\u001b[0m\u001b[1;33m[\u001b[0m\u001b[1;34m'predprob'\u001b[0m\u001b[1;33m]\u001b[0m \u001b[1;33m=\u001b[0m \u001b[0malg\u001b[0m\u001b[1;33m.\u001b[0m\u001b[0mpredict_proba\u001b[0m\u001b[1;33m(\u001b[0m\u001b[0mdtest\u001b[0m\u001b[1;33m[\u001b[0m\u001b[0mpredictors\u001b[0m\u001b[1;33m]\u001b[0m\u001b[1;33m)\u001b[0m\u001b[1;33m[\u001b[0m\u001b[1;33m:\u001b[0m\u001b[1;33m,\u001b[0m\u001b[1;36m1\u001b[0m\u001b[1;33m]\u001b[0m\u001b[1;33m\u001b[0m\u001b[0m\n\u001b[1;32m---> 25\u001b[1;33m     \u001b[0mresults\u001b[0m \u001b[1;33m=\u001b[0m \u001b[0mtest_results\u001b[0m\u001b[1;33m.\u001b[0m\u001b[0mmerge\u001b[0m\u001b[1;33m(\u001b[0m\u001b[0mdtest\u001b[0m\u001b[1;33m[\u001b[0m\u001b[1;33m[\u001b[0m\u001b[1;34m'instanceID'\u001b[0m\u001b[1;33m,\u001b[0m\u001b[1;34m'predprob'\u001b[0m\u001b[1;33m]\u001b[0m\u001b[1;33m]\u001b[0m\u001b[1;33m,\u001b[0m \u001b[0mon\u001b[0m\u001b[1;33m=\u001b[0m\u001b[1;34m'instanceID'\u001b[0m\u001b[1;33m)\u001b[0m\u001b[1;33m\u001b[0m\u001b[0m\n\u001b[0m\u001b[0;32m     26\u001b[0m     \u001b[1;32mprint\u001b[0m \u001b[1;34m'AUC Score (Test): %f'\u001b[0m \u001b[1;33m%\u001b[0m \u001b[0mmetrics\u001b[0m\u001b[1;33m.\u001b[0m\u001b[0mroc_auc_score\u001b[0m\u001b[1;33m(\u001b[0m\u001b[0mresults\u001b[0m\u001b[1;33m[\u001b[0m\u001b[1;34m'label'\u001b[0m\u001b[1;33m]\u001b[0m\u001b[1;33m,\u001b[0m \u001b[0mresults\u001b[0m\u001b[1;33m[\u001b[0m\u001b[1;34m'predprob'\u001b[0m\u001b[1;33m]\u001b[0m\u001b[1;33m)\u001b[0m\u001b[1;33m\u001b[0m\u001b[0m\n\u001b[0;32m     27\u001b[0m \u001b[1;33m\u001b[0m\u001b[0m\n",
      "\u001b[1;31mNameError\u001b[0m: global name 'test_results' is not defined"
     ]
    }
   ],
   "source": [
    "xgb1 = XGBClassifier(\n",
    "        learning_rate =0.1,\n",
    "        n_estimators=1000,\n",
    "        max_depth=5,\n",
    "        min_child_weight=1,\n",
    "        gamma=0,\n",
    "        subsample=0.8,\n",
    "        colsample_bytree=0.8,\n",
    "        objective= 'binary:logistic',\n",
    "        nthread=4,\n",
    "        scale_pos_weight=1,\n",
    "        seed=27)\n",
    "modelfit(xgb1, train, test, predictors)"
   ]
  },
  {
   "cell_type": "code",
   "execution_count": null,
   "metadata": {
    "collapsed": true
   },
   "outputs": [],
   "source": [
    " feat_imp = pd.Series(alg.booster().get_fscore()).sort_values(ascending=False)\n",
    "    feat_imp.plot(kind='bar', title='Feature Importances')\n",
    "    plt.ylabel('Feature Importance Score')"
   ]
  }
 ],
 "metadata": {
  "kernelspec": {
   "display_name": "Python 2",
   "language": "python",
   "name": "python2"
  },
  "language_info": {
   "codemirror_mode": {
    "name": "ipython",
    "version": 2
   },
   "file_extension": ".py",
   "mimetype": "text/x-python",
   "name": "python",
   "nbconvert_exporter": "python",
   "pygments_lexer": "ipython2",
   "version": "2.7.13"
  }
 },
 "nbformat": 4,
 "nbformat_minor": 0
}
